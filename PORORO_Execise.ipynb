{
  "nbformat": 4,
  "nbformat_minor": 0,
  "metadata": {
    "colab": {
      "name": "PORORO Execise",
      "provenance": [],
      "collapsed_sections": [],
      "include_colab_link": true
    },
    "kernelspec": {
      "name": "python3",
      "display_name": "Python 3"
    },
    "accelerator": "TPU",
    "widgets": {
      "application/vnd.jupyter.widget-state+json": {
        "174fbbcb41f0430d850d6a9e4ab235b2": {
          "model_module": "@jupyter-widgets/controls",
          "model_name": "HBoxModel",
          "state": {
            "_view_name": "HBoxView",
            "_dom_classes": [],
            "_model_name": "HBoxModel",
            "_view_module": "@jupyter-widgets/controls",
            "_model_module_version": "1.5.0",
            "_view_count": null,
            "_view_module_version": "1.5.0",
            "box_style": "",
            "layout": "IPY_MODEL_b9dcdadb54bc4849b372690325ea87fb",
            "_model_module": "@jupyter-widgets/controls",
            "children": [
              "IPY_MODEL_c4c759abaab442b3b3c86e8c5b03e07e",
              "IPY_MODEL_9145c8cdce3f4688a57bf5525f030adb"
            ]
          }
        },
        "b9dcdadb54bc4849b372690325ea87fb": {
          "model_module": "@jupyter-widgets/base",
          "model_name": "LayoutModel",
          "state": {
            "_view_name": "LayoutView",
            "grid_template_rows": null,
            "right": null,
            "justify_content": null,
            "_view_module": "@jupyter-widgets/base",
            "overflow": null,
            "_model_module_version": "1.2.0",
            "_view_count": null,
            "flex_flow": null,
            "width": null,
            "min_width": null,
            "border": null,
            "align_items": null,
            "bottom": null,
            "_model_module": "@jupyter-widgets/base",
            "top": null,
            "grid_column": null,
            "overflow_y": null,
            "overflow_x": null,
            "grid_auto_flow": null,
            "grid_area": null,
            "grid_template_columns": null,
            "flex": null,
            "_model_name": "LayoutModel",
            "justify_items": null,
            "grid_row": null,
            "max_height": null,
            "align_content": null,
            "visibility": null,
            "align_self": null,
            "height": null,
            "min_height": null,
            "padding": null,
            "grid_auto_rows": null,
            "grid_gap": null,
            "max_width": null,
            "order": null,
            "_view_module_version": "1.2.0",
            "grid_template_areas": null,
            "object_position": null,
            "object_fit": null,
            "grid_auto_columns": null,
            "margin": null,
            "display": null,
            "left": null
          }
        },
        "c4c759abaab442b3b3c86e8c5b03e07e": {
          "model_module": "@jupyter-widgets/controls",
          "model_name": "FloatProgressModel",
          "state": {
            "_view_name": "ProgressView",
            "style": "IPY_MODEL_9e722ab05d234a13abc757670243ddb8",
            "_dom_classes": [],
            "description": "Downloading: 100%",
            "_model_name": "FloatProgressModel",
            "bar_style": "success",
            "max": 898823,
            "_view_module": "@jupyter-widgets/controls",
            "_model_module_version": "1.5.0",
            "value": 898823,
            "_view_count": null,
            "_view_module_version": "1.5.0",
            "orientation": "horizontal",
            "min": 0,
            "description_tooltip": null,
            "_model_module": "@jupyter-widgets/controls",
            "layout": "IPY_MODEL_46665c79d89747b5ab715a66f6626ed1"
          }
        },
        "9145c8cdce3f4688a57bf5525f030adb": {
          "model_module": "@jupyter-widgets/controls",
          "model_name": "HTMLModel",
          "state": {
            "_view_name": "HTMLView",
            "style": "IPY_MODEL_075074db075242f0b4aa25f5cfc3e26b",
            "_dom_classes": [],
            "description": "",
            "_model_name": "HTMLModel",
            "placeholder": "​",
            "_view_module": "@jupyter-widgets/controls",
            "_model_module_version": "1.5.0",
            "value": " 899k/899k [00:00&lt;00:00, 2.97MB/s]",
            "_view_count": null,
            "_view_module_version": "1.5.0",
            "description_tooltip": null,
            "_model_module": "@jupyter-widgets/controls",
            "layout": "IPY_MODEL_baada521df924b9aa68e1c734e13e7ae"
          }
        },
        "9e722ab05d234a13abc757670243ddb8": {
          "model_module": "@jupyter-widgets/controls",
          "model_name": "ProgressStyleModel",
          "state": {
            "_view_name": "StyleView",
            "_model_name": "ProgressStyleModel",
            "description_width": "initial",
            "_view_module": "@jupyter-widgets/base",
            "_model_module_version": "1.5.0",
            "_view_count": null,
            "_view_module_version": "1.2.0",
            "bar_color": null,
            "_model_module": "@jupyter-widgets/controls"
          }
        },
        "46665c79d89747b5ab715a66f6626ed1": {
          "model_module": "@jupyter-widgets/base",
          "model_name": "LayoutModel",
          "state": {
            "_view_name": "LayoutView",
            "grid_template_rows": null,
            "right": null,
            "justify_content": null,
            "_view_module": "@jupyter-widgets/base",
            "overflow": null,
            "_model_module_version": "1.2.0",
            "_view_count": null,
            "flex_flow": null,
            "width": null,
            "min_width": null,
            "border": null,
            "align_items": null,
            "bottom": null,
            "_model_module": "@jupyter-widgets/base",
            "top": null,
            "grid_column": null,
            "overflow_y": null,
            "overflow_x": null,
            "grid_auto_flow": null,
            "grid_area": null,
            "grid_template_columns": null,
            "flex": null,
            "_model_name": "LayoutModel",
            "justify_items": null,
            "grid_row": null,
            "max_height": null,
            "align_content": null,
            "visibility": null,
            "align_self": null,
            "height": null,
            "min_height": null,
            "padding": null,
            "grid_auto_rows": null,
            "grid_gap": null,
            "max_width": null,
            "order": null,
            "_view_module_version": "1.2.0",
            "grid_template_areas": null,
            "object_position": null,
            "object_fit": null,
            "grid_auto_columns": null,
            "margin": null,
            "display": null,
            "left": null
          }
        },
        "075074db075242f0b4aa25f5cfc3e26b": {
          "model_module": "@jupyter-widgets/controls",
          "model_name": "DescriptionStyleModel",
          "state": {
            "_view_name": "StyleView",
            "_model_name": "DescriptionStyleModel",
            "description_width": "",
            "_view_module": "@jupyter-widgets/base",
            "_model_module_version": "1.5.0",
            "_view_count": null,
            "_view_module_version": "1.2.0",
            "_model_module": "@jupyter-widgets/controls"
          }
        },
        "baada521df924b9aa68e1c734e13e7ae": {
          "model_module": "@jupyter-widgets/base",
          "model_name": "LayoutModel",
          "state": {
            "_view_name": "LayoutView",
            "grid_template_rows": null,
            "right": null,
            "justify_content": null,
            "_view_module": "@jupyter-widgets/base",
            "overflow": null,
            "_model_module_version": "1.2.0",
            "_view_count": null,
            "flex_flow": null,
            "width": null,
            "min_width": null,
            "border": null,
            "align_items": null,
            "bottom": null,
            "_model_module": "@jupyter-widgets/base",
            "top": null,
            "grid_column": null,
            "overflow_y": null,
            "overflow_x": null,
            "grid_auto_flow": null,
            "grid_area": null,
            "grid_template_columns": null,
            "flex": null,
            "_model_name": "LayoutModel",
            "justify_items": null,
            "grid_row": null,
            "max_height": null,
            "align_content": null,
            "visibility": null,
            "align_self": null,
            "height": null,
            "min_height": null,
            "padding": null,
            "grid_auto_rows": null,
            "grid_gap": null,
            "max_width": null,
            "order": null,
            "_view_module_version": "1.2.0",
            "grid_template_areas": null,
            "object_position": null,
            "object_fit": null,
            "grid_auto_columns": null,
            "margin": null,
            "display": null,
            "left": null
          }
        },
        "0a2770eaff96408ebb029e7d2c211da9": {
          "model_module": "@jupyter-widgets/controls",
          "model_name": "HBoxModel",
          "state": {
            "_view_name": "HBoxView",
            "_dom_classes": [],
            "_model_name": "HBoxModel",
            "_view_module": "@jupyter-widgets/controls",
            "_model_module_version": "1.5.0",
            "_view_count": null,
            "_view_module_version": "1.5.0",
            "box_style": "",
            "layout": "IPY_MODEL_e217402d48e44fb1bf95cdc640f7debd",
            "_model_module": "@jupyter-widgets/controls",
            "children": [
              "IPY_MODEL_4f67d384bbf444d9a0c5e377b88d7f99",
              "IPY_MODEL_1e3d6b1c620c4b278c694c78f725ae04"
            ]
          }
        },
        "e217402d48e44fb1bf95cdc640f7debd": {
          "model_module": "@jupyter-widgets/base",
          "model_name": "LayoutModel",
          "state": {
            "_view_name": "LayoutView",
            "grid_template_rows": null,
            "right": null,
            "justify_content": null,
            "_view_module": "@jupyter-widgets/base",
            "overflow": null,
            "_model_module_version": "1.2.0",
            "_view_count": null,
            "flex_flow": null,
            "width": null,
            "min_width": null,
            "border": null,
            "align_items": null,
            "bottom": null,
            "_model_module": "@jupyter-widgets/base",
            "top": null,
            "grid_column": null,
            "overflow_y": null,
            "overflow_x": null,
            "grid_auto_flow": null,
            "grid_area": null,
            "grid_template_columns": null,
            "flex": null,
            "_model_name": "LayoutModel",
            "justify_items": null,
            "grid_row": null,
            "max_height": null,
            "align_content": null,
            "visibility": null,
            "align_self": null,
            "height": null,
            "min_height": null,
            "padding": null,
            "grid_auto_rows": null,
            "grid_gap": null,
            "max_width": null,
            "order": null,
            "_view_module_version": "1.2.0",
            "grid_template_areas": null,
            "object_position": null,
            "object_fit": null,
            "grid_auto_columns": null,
            "margin": null,
            "display": null,
            "left": null
          }
        },
        "4f67d384bbf444d9a0c5e377b88d7f99": {
          "model_module": "@jupyter-widgets/controls",
          "model_name": "FloatProgressModel",
          "state": {
            "_view_name": "ProgressView",
            "style": "IPY_MODEL_9260625a0eb5410b83a72be56139f459",
            "_dom_classes": [],
            "description": "Downloading: 100%",
            "_model_name": "FloatProgressModel",
            "bar_style": "success",
            "max": 456318,
            "_view_module": "@jupyter-widgets/controls",
            "_model_module_version": "1.5.0",
            "value": 456318,
            "_view_count": null,
            "_view_module_version": "1.5.0",
            "orientation": "horizontal",
            "min": 0,
            "description_tooltip": null,
            "_model_module": "@jupyter-widgets/controls",
            "layout": "IPY_MODEL_53030cffd3604f1abea9b738afa8732b"
          }
        },
        "1e3d6b1c620c4b278c694c78f725ae04": {
          "model_module": "@jupyter-widgets/controls",
          "model_name": "HTMLModel",
          "state": {
            "_view_name": "HTMLView",
            "style": "IPY_MODEL_529efe97b1df4217bc4ac02c4513b1ca",
            "_dom_classes": [],
            "description": "",
            "_model_name": "HTMLModel",
            "placeholder": "​",
            "_view_module": "@jupyter-widgets/controls",
            "_model_module_version": "1.5.0",
            "value": " 456k/456k [00:00&lt;00:00, 2.26MB/s]",
            "_view_count": null,
            "_view_module_version": "1.5.0",
            "description_tooltip": null,
            "_model_module": "@jupyter-widgets/controls",
            "layout": "IPY_MODEL_6b789ed553184d738aaaf85fd6e73f56"
          }
        },
        "9260625a0eb5410b83a72be56139f459": {
          "model_module": "@jupyter-widgets/controls",
          "model_name": "ProgressStyleModel",
          "state": {
            "_view_name": "StyleView",
            "_model_name": "ProgressStyleModel",
            "description_width": "initial",
            "_view_module": "@jupyter-widgets/base",
            "_model_module_version": "1.5.0",
            "_view_count": null,
            "_view_module_version": "1.2.0",
            "bar_color": null,
            "_model_module": "@jupyter-widgets/controls"
          }
        },
        "53030cffd3604f1abea9b738afa8732b": {
          "model_module": "@jupyter-widgets/base",
          "model_name": "LayoutModel",
          "state": {
            "_view_name": "LayoutView",
            "grid_template_rows": null,
            "right": null,
            "justify_content": null,
            "_view_module": "@jupyter-widgets/base",
            "overflow": null,
            "_model_module_version": "1.2.0",
            "_view_count": null,
            "flex_flow": null,
            "width": null,
            "min_width": null,
            "border": null,
            "align_items": null,
            "bottom": null,
            "_model_module": "@jupyter-widgets/base",
            "top": null,
            "grid_column": null,
            "overflow_y": null,
            "overflow_x": null,
            "grid_auto_flow": null,
            "grid_area": null,
            "grid_template_columns": null,
            "flex": null,
            "_model_name": "LayoutModel",
            "justify_items": null,
            "grid_row": null,
            "max_height": null,
            "align_content": null,
            "visibility": null,
            "align_self": null,
            "height": null,
            "min_height": null,
            "padding": null,
            "grid_auto_rows": null,
            "grid_gap": null,
            "max_width": null,
            "order": null,
            "_view_module_version": "1.2.0",
            "grid_template_areas": null,
            "object_position": null,
            "object_fit": null,
            "grid_auto_columns": null,
            "margin": null,
            "display": null,
            "left": null
          }
        },
        "529efe97b1df4217bc4ac02c4513b1ca": {
          "model_module": "@jupyter-widgets/controls",
          "model_name": "DescriptionStyleModel",
          "state": {
            "_view_name": "StyleView",
            "_model_name": "DescriptionStyleModel",
            "description_width": "",
            "_view_module": "@jupyter-widgets/base",
            "_model_module_version": "1.5.0",
            "_view_count": null,
            "_view_module_version": "1.2.0",
            "_model_module": "@jupyter-widgets/controls"
          }
        },
        "6b789ed553184d738aaaf85fd6e73f56": {
          "model_module": "@jupyter-widgets/base",
          "model_name": "LayoutModel",
          "state": {
            "_view_name": "LayoutView",
            "grid_template_rows": null,
            "right": null,
            "justify_content": null,
            "_view_module": "@jupyter-widgets/base",
            "overflow": null,
            "_model_module_version": "1.2.0",
            "_view_count": null,
            "flex_flow": null,
            "width": null,
            "min_width": null,
            "border": null,
            "align_items": null,
            "bottom": null,
            "_model_module": "@jupyter-widgets/base",
            "top": null,
            "grid_column": null,
            "overflow_y": null,
            "overflow_x": null,
            "grid_auto_flow": null,
            "grid_area": null,
            "grid_template_columns": null,
            "flex": null,
            "_model_name": "LayoutModel",
            "justify_items": null,
            "grid_row": null,
            "max_height": null,
            "align_content": null,
            "visibility": null,
            "align_self": null,
            "height": null,
            "min_height": null,
            "padding": null,
            "grid_auto_rows": null,
            "grid_gap": null,
            "max_width": null,
            "order": null,
            "_view_module_version": "1.2.0",
            "grid_template_areas": null,
            "object_position": null,
            "object_fit": null,
            "grid_auto_columns": null,
            "margin": null,
            "display": null,
            "left": null
          }
        },
        "ab6af0adc6304a57a14190e4c85d5799": {
          "model_module": "@jupyter-widgets/controls",
          "model_name": "HBoxModel",
          "state": {
            "_view_name": "HBoxView",
            "_dom_classes": [],
            "_model_name": "HBoxModel",
            "_view_module": "@jupyter-widgets/controls",
            "_model_module_version": "1.5.0",
            "_view_count": null,
            "_view_module_version": "1.5.0",
            "box_style": "",
            "layout": "IPY_MODEL_d43a9601dae947638f960ec582edb093",
            "_model_module": "@jupyter-widgets/controls",
            "children": [
              "IPY_MODEL_b1bb0edff20c4b2a8361be776fd04a0b",
              "IPY_MODEL_4e4bcfed1105471c93b5ba951d4e5748"
            ]
          }
        },
        "d43a9601dae947638f960ec582edb093": {
          "model_module": "@jupyter-widgets/base",
          "model_name": "LayoutModel",
          "state": {
            "_view_name": "LayoutView",
            "grid_template_rows": null,
            "right": null,
            "justify_content": null,
            "_view_module": "@jupyter-widgets/base",
            "overflow": null,
            "_model_module_version": "1.2.0",
            "_view_count": null,
            "flex_flow": null,
            "width": null,
            "min_width": null,
            "border": null,
            "align_items": null,
            "bottom": null,
            "_model_module": "@jupyter-widgets/base",
            "top": null,
            "grid_column": null,
            "overflow_y": null,
            "overflow_x": null,
            "grid_auto_flow": null,
            "grid_area": null,
            "grid_template_columns": null,
            "flex": null,
            "_model_name": "LayoutModel",
            "justify_items": null,
            "grid_row": null,
            "max_height": null,
            "align_content": null,
            "visibility": null,
            "align_self": null,
            "height": null,
            "min_height": null,
            "padding": null,
            "grid_auto_rows": null,
            "grid_gap": null,
            "max_width": null,
            "order": null,
            "_view_module_version": "1.2.0",
            "grid_template_areas": null,
            "object_position": null,
            "object_fit": null,
            "grid_auto_columns": null,
            "margin": null,
            "display": null,
            "left": null
          }
        },
        "b1bb0edff20c4b2a8361be776fd04a0b": {
          "model_module": "@jupyter-widgets/controls",
          "model_name": "FloatProgressModel",
          "state": {
            "_view_name": "ProgressView",
            "style": "IPY_MODEL_e2bb5b394c164d1fb7fd998ea797d050",
            "_dom_classes": [],
            "description": "Downloading: 100%",
            "_model_name": "FloatProgressModel",
            "bar_style": "success",
            "max": 231508,
            "_view_module": "@jupyter-widgets/controls",
            "_model_module_version": "1.5.0",
            "value": 231508,
            "_view_count": null,
            "_view_module_version": "1.5.0",
            "orientation": "horizontal",
            "min": 0,
            "description_tooltip": null,
            "_model_module": "@jupyter-widgets/controls",
            "layout": "IPY_MODEL_3347b82554b7461e82aaee7f61bfc183"
          }
        },
        "4e4bcfed1105471c93b5ba951d4e5748": {
          "model_module": "@jupyter-widgets/controls",
          "model_name": "HTMLModel",
          "state": {
            "_view_name": "HTMLView",
            "style": "IPY_MODEL_145821fad44943638280af8290a7710d",
            "_dom_classes": [],
            "description": "",
            "_model_name": "HTMLModel",
            "placeholder": "​",
            "_view_module": "@jupyter-widgets/controls",
            "_model_module_version": "1.5.0",
            "value": " 232k/232k [00:00&lt;00:00, 1.35MB/s]",
            "_view_count": null,
            "_view_module_version": "1.5.0",
            "description_tooltip": null,
            "_model_module": "@jupyter-widgets/controls",
            "layout": "IPY_MODEL_887b39f6ac5d4fe584e2bae60fc7ee2e"
          }
        },
        "e2bb5b394c164d1fb7fd998ea797d050": {
          "model_module": "@jupyter-widgets/controls",
          "model_name": "ProgressStyleModel",
          "state": {
            "_view_name": "StyleView",
            "_model_name": "ProgressStyleModel",
            "description_width": "initial",
            "_view_module": "@jupyter-widgets/base",
            "_model_module_version": "1.5.0",
            "_view_count": null,
            "_view_module_version": "1.2.0",
            "bar_color": null,
            "_model_module": "@jupyter-widgets/controls"
          }
        },
        "3347b82554b7461e82aaee7f61bfc183": {
          "model_module": "@jupyter-widgets/base",
          "model_name": "LayoutModel",
          "state": {
            "_view_name": "LayoutView",
            "grid_template_rows": null,
            "right": null,
            "justify_content": null,
            "_view_module": "@jupyter-widgets/base",
            "overflow": null,
            "_model_module_version": "1.2.0",
            "_view_count": null,
            "flex_flow": null,
            "width": null,
            "min_width": null,
            "border": null,
            "align_items": null,
            "bottom": null,
            "_model_module": "@jupyter-widgets/base",
            "top": null,
            "grid_column": null,
            "overflow_y": null,
            "overflow_x": null,
            "grid_auto_flow": null,
            "grid_area": null,
            "grid_template_columns": null,
            "flex": null,
            "_model_name": "LayoutModel",
            "justify_items": null,
            "grid_row": null,
            "max_height": null,
            "align_content": null,
            "visibility": null,
            "align_self": null,
            "height": null,
            "min_height": null,
            "padding": null,
            "grid_auto_rows": null,
            "grid_gap": null,
            "max_width": null,
            "order": null,
            "_view_module_version": "1.2.0",
            "grid_template_areas": null,
            "object_position": null,
            "object_fit": null,
            "grid_auto_columns": null,
            "margin": null,
            "display": null,
            "left": null
          }
        },
        "145821fad44943638280af8290a7710d": {
          "model_module": "@jupyter-widgets/controls",
          "model_name": "DescriptionStyleModel",
          "state": {
            "_view_name": "StyleView",
            "_model_name": "DescriptionStyleModel",
            "description_width": "",
            "_view_module": "@jupyter-widgets/base",
            "_model_module_version": "1.5.0",
            "_view_count": null,
            "_view_module_version": "1.2.0",
            "_model_module": "@jupyter-widgets/controls"
          }
        },
        "887b39f6ac5d4fe584e2bae60fc7ee2e": {
          "model_module": "@jupyter-widgets/base",
          "model_name": "LayoutModel",
          "state": {
            "_view_name": "LayoutView",
            "grid_template_rows": null,
            "right": null,
            "justify_content": null,
            "_view_module": "@jupyter-widgets/base",
            "overflow": null,
            "_model_module_version": "1.2.0",
            "_view_count": null,
            "flex_flow": null,
            "width": null,
            "min_width": null,
            "border": null,
            "align_items": null,
            "bottom": null,
            "_model_module": "@jupyter-widgets/base",
            "top": null,
            "grid_column": null,
            "overflow_y": null,
            "overflow_x": null,
            "grid_auto_flow": null,
            "grid_area": null,
            "grid_template_columns": null,
            "flex": null,
            "_model_name": "LayoutModel",
            "justify_items": null,
            "grid_row": null,
            "max_height": null,
            "align_content": null,
            "visibility": null,
            "align_self": null,
            "height": null,
            "min_height": null,
            "padding": null,
            "grid_auto_rows": null,
            "grid_gap": null,
            "max_width": null,
            "order": null,
            "_view_module_version": "1.2.0",
            "grid_template_areas": null,
            "object_position": null,
            "object_fit": null,
            "grid_auto_columns": null,
            "margin": null,
            "display": null,
            "left": null
          }
        },
        "d505a5fc65144f6c87f5683419c5be6a": {
          "model_module": "@jupyter-widgets/controls",
          "model_name": "HBoxModel",
          "state": {
            "_view_name": "HBoxView",
            "_dom_classes": [],
            "_model_name": "HBoxModel",
            "_view_module": "@jupyter-widgets/controls",
            "_model_module_version": "1.5.0",
            "_view_count": null,
            "_view_module_version": "1.5.0",
            "box_style": "",
            "layout": "IPY_MODEL_e6669ce0394b4166a97293e8fbcf8ef3",
            "_model_module": "@jupyter-widgets/controls",
            "children": [
              "IPY_MODEL_e38598c5e74f4ad7baf31cf042fba4d3",
              "IPY_MODEL_79ad0842ce0b4a0eb76d3fa7a2d1f6a3"
            ]
          }
        },
        "e6669ce0394b4166a97293e8fbcf8ef3": {
          "model_module": "@jupyter-widgets/base",
          "model_name": "LayoutModel",
          "state": {
            "_view_name": "LayoutView",
            "grid_template_rows": null,
            "right": null,
            "justify_content": null,
            "_view_module": "@jupyter-widgets/base",
            "overflow": null,
            "_model_module_version": "1.2.0",
            "_view_count": null,
            "flex_flow": null,
            "width": null,
            "min_width": null,
            "border": null,
            "align_items": null,
            "bottom": null,
            "_model_module": "@jupyter-widgets/base",
            "top": null,
            "grid_column": null,
            "overflow_y": null,
            "overflow_x": null,
            "grid_auto_flow": null,
            "grid_area": null,
            "grid_template_columns": null,
            "flex": null,
            "_model_name": "LayoutModel",
            "justify_items": null,
            "grid_row": null,
            "max_height": null,
            "align_content": null,
            "visibility": null,
            "align_self": null,
            "height": null,
            "min_height": null,
            "padding": null,
            "grid_auto_rows": null,
            "grid_gap": null,
            "max_width": null,
            "order": null,
            "_view_module_version": "1.2.0",
            "grid_template_areas": null,
            "object_position": null,
            "object_fit": null,
            "grid_auto_columns": null,
            "margin": null,
            "display": null,
            "left": null
          }
        },
        "e38598c5e74f4ad7baf31cf042fba4d3": {
          "model_module": "@jupyter-widgets/controls",
          "model_name": "FloatProgressModel",
          "state": {
            "_view_name": "ProgressView",
            "style": "IPY_MODEL_f2d2f31ea0d846feb8c20cbd7a836af4",
            "_dom_classes": [],
            "description": "100%",
            "_model_name": "FloatProgressModel",
            "bar_style": "success",
            "max": 102502400,
            "_view_module": "@jupyter-widgets/controls",
            "_model_module_version": "1.5.0",
            "value": 102502400,
            "_view_count": null,
            "_view_module_version": "1.5.0",
            "orientation": "horizontal",
            "min": 0,
            "description_tooltip": null,
            "_model_module": "@jupyter-widgets/controls",
            "layout": "IPY_MODEL_9a9445d8c4994fba82c708da7722fab9"
          }
        },
        "79ad0842ce0b4a0eb76d3fa7a2d1f6a3": {
          "model_module": "@jupyter-widgets/controls",
          "model_name": "HTMLModel",
          "state": {
            "_view_name": "HTMLView",
            "style": "IPY_MODEL_4f0c47f6dcc3422ab988f1f0ac6bb014",
            "_dom_classes": [],
            "description": "",
            "_model_name": "HTMLModel",
            "placeholder": "​",
            "_view_module": "@jupyter-widgets/controls",
            "_model_module_version": "1.5.0",
            "value": " 97.8M/97.8M [00:01&lt;00:00, 66.9MB/s]",
            "_view_count": null,
            "_view_module_version": "1.5.0",
            "description_tooltip": null,
            "_model_module": "@jupyter-widgets/controls",
            "layout": "IPY_MODEL_6ee19bd7818d46e1b5982f31babc74ed"
          }
        },
        "f2d2f31ea0d846feb8c20cbd7a836af4": {
          "model_module": "@jupyter-widgets/controls",
          "model_name": "ProgressStyleModel",
          "state": {
            "_view_name": "StyleView",
            "_model_name": "ProgressStyleModel",
            "description_width": "initial",
            "_view_module": "@jupyter-widgets/base",
            "_model_module_version": "1.5.0",
            "_view_count": null,
            "_view_module_version": "1.2.0",
            "bar_color": null,
            "_model_module": "@jupyter-widgets/controls"
          }
        },
        "9a9445d8c4994fba82c708da7722fab9": {
          "model_module": "@jupyter-widgets/base",
          "model_name": "LayoutModel",
          "state": {
            "_view_name": "LayoutView",
            "grid_template_rows": null,
            "right": null,
            "justify_content": null,
            "_view_module": "@jupyter-widgets/base",
            "overflow": null,
            "_model_module_version": "1.2.0",
            "_view_count": null,
            "flex_flow": null,
            "width": null,
            "min_width": null,
            "border": null,
            "align_items": null,
            "bottom": null,
            "_model_module": "@jupyter-widgets/base",
            "top": null,
            "grid_column": null,
            "overflow_y": null,
            "overflow_x": null,
            "grid_auto_flow": null,
            "grid_area": null,
            "grid_template_columns": null,
            "flex": null,
            "_model_name": "LayoutModel",
            "justify_items": null,
            "grid_row": null,
            "max_height": null,
            "align_content": null,
            "visibility": null,
            "align_self": null,
            "height": null,
            "min_height": null,
            "padding": null,
            "grid_auto_rows": null,
            "grid_gap": null,
            "max_width": null,
            "order": null,
            "_view_module_version": "1.2.0",
            "grid_template_areas": null,
            "object_position": null,
            "object_fit": null,
            "grid_auto_columns": null,
            "margin": null,
            "display": null,
            "left": null
          }
        },
        "4f0c47f6dcc3422ab988f1f0ac6bb014": {
          "model_module": "@jupyter-widgets/controls",
          "model_name": "DescriptionStyleModel",
          "state": {
            "_view_name": "StyleView",
            "_model_name": "DescriptionStyleModel",
            "description_width": "",
            "_view_module": "@jupyter-widgets/base",
            "_model_module_version": "1.5.0",
            "_view_count": null,
            "_view_module_version": "1.2.0",
            "_model_module": "@jupyter-widgets/controls"
          }
        },
        "6ee19bd7818d46e1b5982f31babc74ed": {
          "model_module": "@jupyter-widgets/base",
          "model_name": "LayoutModel",
          "state": {
            "_view_name": "LayoutView",
            "grid_template_rows": null,
            "right": null,
            "justify_content": null,
            "_view_module": "@jupyter-widgets/base",
            "overflow": null,
            "_model_module_version": "1.2.0",
            "_view_count": null,
            "flex_flow": null,
            "width": null,
            "min_width": null,
            "border": null,
            "align_items": null,
            "bottom": null,
            "_model_module": "@jupyter-widgets/base",
            "top": null,
            "grid_column": null,
            "overflow_y": null,
            "overflow_x": null,
            "grid_auto_flow": null,
            "grid_area": null,
            "grid_template_columns": null,
            "flex": null,
            "_model_name": "LayoutModel",
            "justify_items": null,
            "grid_row": null,
            "max_height": null,
            "align_content": null,
            "visibility": null,
            "align_self": null,
            "height": null,
            "min_height": null,
            "padding": null,
            "grid_auto_rows": null,
            "grid_gap": null,
            "max_width": null,
            "order": null,
            "_view_module_version": "1.2.0",
            "grid_template_areas": null,
            "object_position": null,
            "object_fit": null,
            "grid_auto_columns": null,
            "margin": null,
            "display": null,
            "left": null
          }
        },
        "a2ee9bb807dd42fa9a8907dc7745a922": {
          "model_module": "@jupyter-widgets/controls",
          "model_name": "HBoxModel",
          "state": {
            "_view_name": "HBoxView",
            "_dom_classes": [],
            "_model_name": "HBoxModel",
            "_view_module": "@jupyter-widgets/controls",
            "_model_module_version": "1.5.0",
            "_view_count": null,
            "_view_module_version": "1.5.0",
            "box_style": "",
            "layout": "IPY_MODEL_bd1202b3e8b540c08660cb56dc237dab",
            "_model_module": "@jupyter-widgets/controls",
            "children": [
              "IPY_MODEL_a4c8a01c888b4bbe8e136b054fd1595a",
              "IPY_MODEL_a8c5952119c7434e949e8487c326bcd7"
            ]
          }
        },
        "bd1202b3e8b540c08660cb56dc237dab": {
          "model_module": "@jupyter-widgets/base",
          "model_name": "LayoutModel",
          "state": {
            "_view_name": "LayoutView",
            "grid_template_rows": null,
            "right": null,
            "justify_content": null,
            "_view_module": "@jupyter-widgets/base",
            "overflow": null,
            "_model_module_version": "1.2.0",
            "_view_count": null,
            "flex_flow": null,
            "width": null,
            "min_width": null,
            "border": null,
            "align_items": null,
            "bottom": null,
            "_model_module": "@jupyter-widgets/base",
            "top": null,
            "grid_column": null,
            "overflow_y": null,
            "overflow_x": null,
            "grid_auto_flow": null,
            "grid_area": null,
            "grid_template_columns": null,
            "flex": null,
            "_model_name": "LayoutModel",
            "justify_items": null,
            "grid_row": null,
            "max_height": null,
            "align_content": null,
            "visibility": null,
            "align_self": null,
            "height": null,
            "min_height": null,
            "padding": null,
            "grid_auto_rows": null,
            "grid_gap": null,
            "max_width": null,
            "order": null,
            "_view_module_version": "1.2.0",
            "grid_template_areas": null,
            "object_position": null,
            "object_fit": null,
            "grid_auto_columns": null,
            "margin": null,
            "display": null,
            "left": null
          }
        },
        "a4c8a01c888b4bbe8e136b054fd1595a": {
          "model_module": "@jupyter-widgets/controls",
          "model_name": "FloatProgressModel",
          "state": {
            "_view_name": "ProgressView",
            "style": "IPY_MODEL_2e02ebf3252c43c8a7759e6c519b2c43",
            "_dom_classes": [],
            "description": "100%",
            "_model_name": "FloatProgressModel",
            "bar_style": "success",
            "max": 166618694,
            "_view_module": "@jupyter-widgets/controls",
            "_model_module_version": "1.5.0",
            "value": 166618694,
            "_view_count": null,
            "_view_module_version": "1.5.0",
            "orientation": "horizontal",
            "min": 0,
            "description_tooltip": null,
            "_model_module": "@jupyter-widgets/controls",
            "layout": "IPY_MODEL_22e80c2a735d48b996651f4dea46c92b"
          }
        },
        "a8c5952119c7434e949e8487c326bcd7": {
          "model_module": "@jupyter-widgets/controls",
          "model_name": "HTMLModel",
          "state": {
            "_view_name": "HTMLView",
            "style": "IPY_MODEL_222cb16c58c04ae787a534073d0d253b",
            "_dom_classes": [],
            "description": "",
            "_model_name": "HTMLModel",
            "placeholder": "​",
            "_view_module": "@jupyter-widgets/controls",
            "_model_module_version": "1.5.0",
            "value": " 159M/159M [00:05&lt;00:00, 30.2MB/s]",
            "_view_count": null,
            "_view_module_version": "1.5.0",
            "description_tooltip": null,
            "_model_module": "@jupyter-widgets/controls",
            "layout": "IPY_MODEL_9df46a3cefc246728c458f5f74827796"
          }
        },
        "2e02ebf3252c43c8a7759e6c519b2c43": {
          "model_module": "@jupyter-widgets/controls",
          "model_name": "ProgressStyleModel",
          "state": {
            "_view_name": "StyleView",
            "_model_name": "ProgressStyleModel",
            "description_width": "initial",
            "_view_module": "@jupyter-widgets/base",
            "_model_module_version": "1.5.0",
            "_view_count": null,
            "_view_module_version": "1.2.0",
            "bar_color": null,
            "_model_module": "@jupyter-widgets/controls"
          }
        },
        "22e80c2a735d48b996651f4dea46c92b": {
          "model_module": "@jupyter-widgets/base",
          "model_name": "LayoutModel",
          "state": {
            "_view_name": "LayoutView",
            "grid_template_rows": null,
            "right": null,
            "justify_content": null,
            "_view_module": "@jupyter-widgets/base",
            "overflow": null,
            "_model_module_version": "1.2.0",
            "_view_count": null,
            "flex_flow": null,
            "width": null,
            "min_width": null,
            "border": null,
            "align_items": null,
            "bottom": null,
            "_model_module": "@jupyter-widgets/base",
            "top": null,
            "grid_column": null,
            "overflow_y": null,
            "overflow_x": null,
            "grid_auto_flow": null,
            "grid_area": null,
            "grid_template_columns": null,
            "flex": null,
            "_model_name": "LayoutModel",
            "justify_items": null,
            "grid_row": null,
            "max_height": null,
            "align_content": null,
            "visibility": null,
            "align_self": null,
            "height": null,
            "min_height": null,
            "padding": null,
            "grid_auto_rows": null,
            "grid_gap": null,
            "max_width": null,
            "order": null,
            "_view_module_version": "1.2.0",
            "grid_template_areas": null,
            "object_position": null,
            "object_fit": null,
            "grid_auto_columns": null,
            "margin": null,
            "display": null,
            "left": null
          }
        },
        "222cb16c58c04ae787a534073d0d253b": {
          "model_module": "@jupyter-widgets/controls",
          "model_name": "DescriptionStyleModel",
          "state": {
            "_view_name": "StyleView",
            "_model_name": "DescriptionStyleModel",
            "description_width": "",
            "_view_module": "@jupyter-widgets/base",
            "_model_module_version": "1.5.0",
            "_view_count": null,
            "_view_module_version": "1.2.0",
            "_model_module": "@jupyter-widgets/controls"
          }
        },
        "9df46a3cefc246728c458f5f74827796": {
          "model_module": "@jupyter-widgets/base",
          "model_name": "LayoutModel",
          "state": {
            "_view_name": "LayoutView",
            "grid_template_rows": null,
            "right": null,
            "justify_content": null,
            "_view_module": "@jupyter-widgets/base",
            "overflow": null,
            "_model_module_version": "1.2.0",
            "_view_count": null,
            "flex_flow": null,
            "width": null,
            "min_width": null,
            "border": null,
            "align_items": null,
            "bottom": null,
            "_model_module": "@jupyter-widgets/base",
            "top": null,
            "grid_column": null,
            "overflow_y": null,
            "overflow_x": null,
            "grid_auto_flow": null,
            "grid_area": null,
            "grid_template_columns": null,
            "flex": null,
            "_model_name": "LayoutModel",
            "justify_items": null,
            "grid_row": null,
            "max_height": null,
            "align_content": null,
            "visibility": null,
            "align_self": null,
            "height": null,
            "min_height": null,
            "padding": null,
            "grid_auto_rows": null,
            "grid_gap": null,
            "max_width": null,
            "order": null,
            "_view_module_version": "1.2.0",
            "grid_template_areas": null,
            "object_position": null,
            "object_fit": null,
            "grid_auto_columns": null,
            "margin": null,
            "display": null,
            "left": null
          }
        }
      }
    }
  },
  "cells": [
    {
      "cell_type": "markdown",
      "metadata": {
        "id": "view-in-github",
        "colab_type": "text"
      },
      "source": [
        "<a href=\"https://colab.research.google.com/github/philipkwon75/PORORO-Execise/blob/main/PORORO_Execise.ipynb\" target=\"_parent\"><img src=\"https://colab.research.google.com/assets/colab-badge.svg\" alt=\"Open In Colab\"/></a>"
      ]
    },
    {
      "cell_type": "code",
      "metadata": {
        "id": "M7JcESAhpKG-"
      },
      "source": [
        "#@PORORO Package Install\n",
        "!pip install pororo"
      ],
      "execution_count": null,
      "outputs": []
    },
    {
      "cell_type": "code",
      "metadata": {
        "colab": {
          "base_uri": "https://localhost:8080/",
          "height": 89
        },
        "id": "nHytlfxh9VHc",
        "outputId": "237706ba-ad6b-450b-c63d-78dd0471555e"
      },
      "source": [
        "from pororo import Pororo\r\n",
        "\r\n",
        "# Show all available tasks\r\n",
        "Pororo.available_tasks()"
      ],
      "execution_count": null,
      "outputs": [
        {
          "output_type": "execute_result",
          "data": {
            "application/vnd.google.colaboratory.intrinsic+json": {
              "type": "string"
            },
            "text/plain": [
              "\"Available tasks are ['mrc', 'rc', 'qa', 'question_answering', 'machine_reading_comprehension', 'reading_comprehension', 'sentiment', 'sentiment_analysis', 'nli', 'natural_language_inference', 'inference', 'fill', 'fill_in_blank', 'fib', 'para', 'pi', 'cse', 'contextual_subword_embedding', 'similarity', 'sts', 'semantic_textual_similarity', 'sentence_similarity', 'sentvec', 'sentence_embedding', 'sentence_vector', 'se', 'inflection', 'morphological_inflection', 'g2p', 'grapheme_to_phoneme', 'grapheme_to_phoneme_conversion', 'w2v', 'wordvec', 'word2vec', 'word_vector', 'word_embedding', 'tokenize', 'tokenise', 'tokenization', 'tokenisation', 'tok', 'segmentation', 'seg', 'mt', 'machine_translation', 'translation', 'pos', 'tag', 'pos_tagging', 'tagging', 'const', 'constituency', 'constituency_parsing', 'cp', 'pg', 'collocation', 'collocate', 'col', 'word_translation', 'wt', 'summarization', 'summarisation', 'text_summarization', 'text_summarisation', 'summary', 'gec', 'review', 'review_scoring', 'lemmatization', 'lemmatisation', 'lemma', 'ner', 'named_entity_recognition', 'entity_recognition', 'zero-topic', 'dp', 'dep_parse', 'caption', 'captioning', 'asr', 'speech_recognition', 'st', 'speech_translation', 'tts', 'text_to_speech', 'speech_synthesis', 'ocr', 'srl', 'semantic_role_labeling', 'p2g', 'aes', 'essay', 'qg', 'question_generation', 'age_suitability', 'wsd']\""
            ]
          },
          "metadata": {
            "tags": []
          },
          "execution_count": 5
        }
      ]
    },
    {
      "cell_type": "code",
      "metadata": {
        "colab": {
          "base_uri": "https://localhost:8080/"
        },
        "id": "tUhm6COn9yD-",
        "outputId": "a6f95c3a-1758-4222-f3a6-b58856d3e533"
      },
      "source": [
        "# TEXT CLASSIFICATION \r\n",
        "# Automated Essay Scoring : Automated Essay Scoring related modeling class\r\n",
        "# 에세이 점수 판단\r\n",
        "\r\n",
        "aes = Pororo(task=\"aes\", lang=\"en\")\r\n",
        "aes(\"To me, leadership does not necessarily mean accumulating as many titles as possible...\")"
      ],
      "execution_count": null,
      "outputs": [
        {
          "output_type": "stream",
          "text": [
            "\n",
            "\n",
            "\n"
          ],
          "name": "stderr"
        },
        {
          "output_type": "execute_result",
          "data": {
            "text/plain": [
              "23.56"
            ]
          },
          "metadata": {
            "tags": []
          },
          "execution_count": 4
        }
      ]
    },
    {
      "cell_type": "code",
      "metadata": {
        "colab": {
          "base_uri": "https://localhost:8080/",
          "height": 261,
          "referenced_widgets": [
            "174fbbcb41f0430d850d6a9e4ab235b2",
            "b9dcdadb54bc4849b372690325ea87fb",
            "c4c759abaab442b3b3c86e8c5b03e07e",
            "9145c8cdce3f4688a57bf5525f030adb",
            "9e722ab05d234a13abc757670243ddb8",
            "46665c79d89747b5ab715a66f6626ed1",
            "075074db075242f0b4aa25f5cfc3e26b",
            "baada521df924b9aa68e1c734e13e7ae",
            "0a2770eaff96408ebb029e7d2c211da9",
            "e217402d48e44fb1bf95cdc640f7debd",
            "4f67d384bbf444d9a0c5e377b88d7f99",
            "1e3d6b1c620c4b278c694c78f725ae04",
            "9260625a0eb5410b83a72be56139f459",
            "53030cffd3604f1abea9b738afa8732b",
            "529efe97b1df4217bc4ac02c4513b1ca",
            "6b789ed553184d738aaaf85fd6e73f56"
          ]
        },
        "id": "FCZ80-pq_H-W",
        "outputId": "9a30b4e4-53a5-40b2-a3b3-6f16f8bcb9c3"
      },
      "source": [
        "# TEXT CLASSIFICATION \r\n",
        "# Age Suitability Prediction : Movie scirpt analysis modeling class\r\n",
        "# 연령 등급 판단\r\n",
        "\r\n",
        "age_suitability = Pororo(task=\"age_suitability\", lang=\"en\")\r\n",
        "age_suitability(\"When I was a little girl ...\")"
      ],
      "execution_count": null,
      "outputs": [
        {
          "output_type": "stream",
          "text": [
            "\n"
          ],
          "name": "stderr"
        },
        {
          "output_type": "display_data",
          "data": {
            "application/vnd.jupyter.widget-view+json": {
              "model_id": "174fbbcb41f0430d850d6a9e4ab235b2",
              "version_minor": 0,
              "version_major": 2
            },
            "text/plain": [
              "HBox(children=(FloatProgress(value=0.0, description='Downloading', max=898823.0, style=ProgressStyle(descripti…"
            ]
          },
          "metadata": {
            "tags": []
          }
        },
        {
          "output_type": "stream",
          "text": [
            "\n"
          ],
          "name": "stdout"
        },
        {
          "output_type": "display_data",
          "data": {
            "application/vnd.jupyter.widget-view+json": {
              "model_id": "0a2770eaff96408ebb029e7d2c211da9",
              "version_minor": 0,
              "version_major": 2
            },
            "text/plain": [
              "HBox(children=(FloatProgress(value=0.0, description='Downloading', max=456318.0, style=ProgressStyle(descripti…"
            ]
          },
          "metadata": {
            "tags": []
          }
        },
        {
          "output_type": "stream",
          "text": [
            "\n"
          ],
          "name": "stdout"
        },
        {
          "output_type": "execute_result",
          "data": {
            "text/plain": [
              "{'emotion': {'alcohol': 'Low',\n",
              "  'frightening': 'Low',\n",
              "  'nudity': 'Low',\n",
              "  'profanity': 'Low',\n",
              "  'violence': 'Low'},\n",
              " 'rating': {'class': 'PG',\n",
              "  'description': 'Parental Guidance Suggested. Some material may not be suitable for children.'}}"
            ]
          },
          "metadata": {
            "tags": []
          },
          "execution_count": 5
        }
      ]
    },
    {
      "cell_type": "code",
      "metadata": {
        "colab": {
          "base_uri": "https://localhost:8080/",
          "height": 35
        },
        "id": "pyifrfbpAQst",
        "outputId": "0d2d2117-80c6-425c-9d55-0c9542440dd0"
      },
      "source": [
        "# TEXT CLASSIFICATION \r\n",
        "# Natural Language Inference : Natural Language Inference related modeling class\r\n",
        "# 문장 연관 관계 판단\r\n",
        "\r\n",
        "nli = Pororo(task=\"nli\", lang=\"ko\")\r\n",
        "# Contradiction\r\n",
        "# nli(\"저는, 그냥 알아내려고 거기 있었어요\", \"나는 처음부터 그것을 잘 이해했다\")\r\n",
        "# Neutral\r\n",
        "# nli(\"저는, 그냥 알아내려고 거기 있었어요\", \"거기서 알아낸 사실을 사람들에게 발표했다\")\r\n",
        "# Neutral\r\n",
        "nli(\"일을 즐기는 사람이 성공한다\", \"톰은 일을 즐겨워한다\")"
      ],
      "execution_count": null,
      "outputs": [
        {
          "output_type": "execute_result",
          "data": {
            "application/vnd.google.colaboratory.intrinsic+json": {
              "type": "string"
            },
            "text/plain": [
              "'Neutral'"
            ]
          },
          "metadata": {
            "tags": []
          },
          "execution_count": 9
        }
      ]
    },
    {
      "cell_type": "code",
      "metadata": {
        "colab": {
          "base_uri": "https://localhost:8080/",
          "height": 35
        },
        "id": "VE76Ek6TBmas",
        "outputId": "ac7f6485-b91f-472d-a733-71947e0ce51f"
      },
      "source": [
        "# TEXT CLASSIFICATION \r\n",
        "# Paraphrase Identification : Paraphrase Identification related modeling class\r\n",
        "# 대체문장 여부 판단\r\n",
        "\r\n",
        "# fix error\r\n",
        "# Q: 예제 소스에 모델 세팅이 누락됨\r\n",
        "paws = Pororo(task=\"para\", lang=\"ko\")\r\n",
        "#paws(\"그는 빨간 자전거를 샀다\", \"그가 산 자전거는 빨간색이다.\")\r\n",
        "paws(\"그녀는 제주도에서 일출을 감상했다\", \"그녀는 일출을 감상하기 위해서 제주도에 갔다.\")"
      ],
      "execution_count": null,
      "outputs": [
        {
          "output_type": "execute_result",
          "data": {
            "application/vnd.google.colaboratory.intrinsic+json": {
              "type": "string"
            },
            "text/plain": [
              "'Paraphrase'"
            ]
          },
          "metadata": {
            "tags": []
          },
          "execution_count": 16
        }
      ]
    },
    {
      "cell_type": "code",
      "metadata": {
        "colab": {
          "base_uri": "https://localhost:8080/"
        },
        "id": "BDan5IJqDn9c",
        "outputId": "d66365c7-8eda-43d0-c1ca-fac722d17114"
      },
      "source": [
        "# TEXT CLASSIFICATION \r\n",
        "# Review Scoring : Review Scoring related modeling class\r\n",
        "# 댓글 리뷰 점수 판단\r\n",
        "\r\n",
        "review = Pororo(task=\"review\", lang=\"ko\")\r\n",
        "#review(\"그냥저냥 다른데랑 똑같숩니다\")\r\n",
        "review(\"좋습니다 만족해요 배송만 좀 더 빨랐으면..\")"
      ],
      "execution_count": null,
      "outputs": [
        {
          "output_type": "execute_result",
          "data": {
            "text/plain": [
              "3.92"
            ]
          },
          "metadata": {
            "tags": []
          },
          "execution_count": 18
        }
      ]
    },
    {
      "cell_type": "code",
      "metadata": {
        "colab": {
          "base_uri": "https://localhost:8080/"
        },
        "id": "OlhJFjiEHRbD",
        "outputId": "35d62afe-f096-4340-d352-11e0350fc462"
      },
      "source": [
        "# TEXT CLASSIFICATION \r\n",
        "# Semantic Textual Similarity : Semantic Textual Similarity related modeling class\r\n",
        "# 문장 유사도 판단\r\n",
        "\r\n",
        "sts = Pororo(task=\"similarity\", lang=\"ko\")\r\n",
        "sts(\"나는 동물을 좋아하는 사람이야\", \"강아지를 좋아하는 아버지\")"
      ],
      "execution_count": null,
      "outputs": [
        {
          "output_type": "stream",
          "text": [
            "\n"
          ],
          "name": "stderr"
        },
        {
          "output_type": "execute_result",
          "data": {
            "text/plain": [
              "0.415"
            ]
          },
          "metadata": {
            "tags": []
          },
          "execution_count": 19
        }
      ]
    },
    {
      "cell_type": "code",
      "metadata": {
        "colab": {
          "base_uri": "https://localhost:8080/"
        },
        "id": "l7h6TCmrLVgN",
        "outputId": "ceb98e12-4ce8-4577-e35b-1085bdabc60e"
      },
      "source": [
        "# TEXT CLASSIFICATION\r\n",
        "# Sentence Embedding : Sentence Embedding related modeling class\r\n",
        "# 문장 임베딩, 문장 유사도 판단\r\n",
        "\r\n",
        "#se = Pororo(task=\"sentence_embedding\", lang=\"ko\")\r\n",
        "#se(\"나는 동물을 좋아하는 사람이야\")\r\n",
        "\r\n",
        "se = Pororo(task=\"sentence_embedding\", lang=\"ko\")\r\n",
        "query = \"고양이가 창 밖을 바라본다\"\r\n",
        "cands = [\r\n",
        "   \"고양이가 카메라를 켠다\",\r\n",
        "   \"남자와 여자가 걷고 있다\",\r\n",
        "   \"고양이가 개를 만지려 하고 있다\",\r\n",
        "   \"두 마리의 고양이가 창문을 보고 있다\",\r\n",
        "   \"테이블 위에 앉아 있는 고양이가 창밖을 내다보고 있다\",\r\n",
        "   \"창밖을 내다보는 고양이\"\r\n",
        "]\r\n",
        "\r\n",
        "se.find_similar_sentences(query, cands)"
      ],
      "execution_count": null,
      "outputs": [
        {
          "output_type": "execute_result",
          "data": {
            "text/plain": [
              "{'query': '고양이가 창 밖을 바라본다',\n",
              " 'ranking': [(5, '창밖을 내다보는 고양이', 0.93),\n",
              "  (4, '테이블 위에 앉아 있는 고양이가 창밖을 내다보고 있다', 0.91),\n",
              "  (3, '두 마리의 고양이가 창문을 보고 있다', 0.78),\n",
              "  (0, '고양이가 카메라를 켠다', 0.74),\n",
              "  (2, '고양이가 개를 만지려 하고 있다', 0.41)]}"
            ]
          },
          "metadata": {
            "tags": []
          },
          "execution_count": 21
        }
      ]
    },
    {
      "cell_type": "code",
      "metadata": {
        "colab": {
          "base_uri": "https://localhost:8080/",
          "height": 35
        },
        "id": "xbrWUWwtUbp5",
        "outputId": "1b7bb827-3267-46f8-ac73-3c21aeecd589"
      },
      "source": [
        "# TEXT CLASSIFICATION\r\n",
        "# Sentiment Analysis : Sentiment Analysis related modeling class\r\n",
        "# 댓글 감성분석\r\n",
        "\r\n",
        "sa = Pororo(task=\"sentiment\", model=\"brainbert.base.ko.nsmc\", lang=\"ko\")\r\n",
        "#sa(\"배송이 버트 학습시키는 것 만큼 느리네요\")\r\n",
        "#sa(\"꽤 맘에 들었어요. 겉에서 봤을땐 허름했는데 맛도 있고, 괜찮아요\")\r\n",
        "sa(\"예약하고 가세요 대기줄이 깁니다 훠궈는 하이디라오가 비싼만큼 만족도가 제일 높아요\")"
      ],
      "execution_count": null,
      "outputs": [
        {
          "output_type": "execute_result",
          "data": {
            "application/vnd.google.colaboratory.intrinsic+json": {
              "type": "string"
            },
            "text/plain": [
              "'Positive'"
            ]
          },
          "metadata": {
            "tags": []
          },
          "execution_count": 30
        }
      ]
    },
    {
      "cell_type": "code",
      "metadata": {
        "colab": {
          "base_uri": "https://localhost:8080/"
        },
        "id": "y8lDX_V4U-O0",
        "outputId": "f4fad53c-5038-449f-ba40-8b979f00f5e0"
      },
      "source": [
        "# TEXT CLASSIFICATION\r\n",
        "# Zero-shot Topic Classification : Zero-shot Classification related modeling class\r\n",
        "# 문장 토픽 분류\r\n",
        "\r\n",
        "zsl = Pororo(task=\"zero-topic\")\r\n",
        "zsl('''라리가 사무국, 메시 아닌 바르사 지지...\"바이 아웃 유효\" [공식발표]''', [\"스포츠\", \"사회\", \"정치\", \"경제\", \"생활/문화\", \"IT/과학\"])"
      ],
      "execution_count": null,
      "outputs": [
        {
          "output_type": "stream",
          "text": [
            "\n"
          ],
          "name": "stderr"
        },
        {
          "output_type": "execute_result",
          "data": {
            "text/plain": [
              "{'IT/과학': 34.71,\n",
              " '경제': 39.18,\n",
              " '사회': 37.11,\n",
              " '생활/문화': 71.15,\n",
              " '스포츠': 94.15,\n",
              " '정치': 74.26}"
            ]
          },
          "metadata": {
            "tags": []
          },
          "execution_count": 31
        }
      ]
    },
    {
      "cell_type": "code",
      "metadata": {
        "colab": {
          "base_uri": "https://localhost:8080/"
        },
        "id": "BuyBSn0HMdqJ",
        "outputId": "99d3f5c4-e57c-4d79-d5e9-d142dc55fc1e"
      },
      "source": [
        "# SEQUENCE TAGGING\r\n",
        "# Contextualized Embedding : Contextualized Embedding related modeling class\r\n",
        "# 문맥에 따라 임베딩 수행\r\n",
        "\r\n",
        "cse = Pororo(task=\"cse\", lang=\"ko\")\r\n",
        "cse(\"하늘을 나는 새\")"
      ],
      "execution_count": null,
      "outputs": [
        {
          "output_type": "stream",
          "text": [
            "\n"
          ],
          "name": "stderr"
        },
        {
          "output_type": "execute_result",
          "data": {
            "text/plain": [
              "array([[-0.21313521, -0.11196353, -0.02407344, ..., -0.25712115,\n",
              "        -0.23565263, -0.12325821],\n",
              "       [ 0.13783504,  0.2669269 , -0.6433776 , ...,  0.0107717 ,\n",
              "        -0.11404482, -0.02197201],\n",
              "       [ 0.0825995 ,  0.24555008, -0.66306156, ...,  0.02181695,\n",
              "        -0.11622979, -0.06948961],\n",
              "       [-0.20931265, -0.13545163, -0.3357221 , ..., -0.1255217 ,\n",
              "        -0.19938056, -0.0113732 ],\n",
              "       [-0.25663522, -0.11936969, -0.01797588, ..., -0.23691532,\n",
              "        -0.19555905, -0.1857206 ]], dtype=float32)"
            ]
          },
          "metadata": {
            "tags": []
          },
          "execution_count": 22
        }
      ]
    },
    {
      "cell_type": "code",
      "metadata": {
        "colab": {
          "base_uri": "https://localhost:8080/"
        },
        "id": "SWr82XpoPMLL",
        "outputId": "3e881887-d1ae-444f-de98-ef97a147e865"
      },
      "source": [
        "# SEQUENCE TAGGING\r\n",
        "# Dependency Parsing : Dependency Parsing related modeling class\r\n",
        "# 댓글 문장 태깅\r\n",
        "\r\n",
        "# fix error\r\n",
        "# mecap Package Install\r\n",
        "!pip install python-mecab-ko\r\n",
        "\r\n",
        "#\r\n",
        "dp = Pororo(task=\"dep_parse\", lang=\"ko\")\r\n",
        "dp(\"분위기도 좋고 음식도 맛있었어요. 한 시간 기다렸어요.\")"
      ],
      "execution_count": null,
      "outputs": [
        {
          "output_type": "stream",
          "text": [
            "Collecting python-mecab-ko\n",
            "  Downloading https://files.pythonhosted.org/packages/1f/1d/9c869b1230dfd12c2fc84cfd307ae76a48f8e218db19feab00ef451a147e/python-mecab-ko-1.0.11.tar.gz\n",
            "Collecting pybind11~=2.0\n",
            "\u001b[?25l  Downloading https://files.pythonhosted.org/packages/8d/43/7339dbabbc2793718d59703aace4166f53c29ee1c202f6ff5bf8a26c4d91/pybind11-2.6.2-py2.py3-none-any.whl (191kB)\n",
            "\u001b[K     |████████████████████████████████| 194kB 5.6MB/s \n",
            "\u001b[?25hBuilding wheels for collected packages: python-mecab-ko\n",
            "  Building wheel for python-mecab-ko (setup.py) ... \u001b[?25lerror\n",
            "\u001b[31m  ERROR: Failed building wheel for python-mecab-ko\u001b[0m\n",
            "\u001b[?25h  Running setup.py clean for python-mecab-ko\n",
            "Failed to build python-mecab-ko\n",
            "Installing collected packages: pybind11, python-mecab-ko\n",
            "    Running setup.py install for python-mecab-ko ... \u001b[?25l\u001b[?25hdone\n",
            "Successfully installed pybind11-2.6.2 python-mecab-ko-1.0.11\n"
          ],
          "name": "stdout"
        },
        {
          "output_type": "stream",
          "text": [
            "\n"
          ],
          "name": "stderr"
        },
        {
          "output_type": "execute_result",
          "data": {
            "text/plain": [
              "[(1, '분위기도', 2, 'NP_SBJ'),\n",
              " (2, '좋고', 4, 'VP'),\n",
              " (3, '음식도', 4, 'NP_SBJ'),\n",
              " (4, '맛있었어요.', 7, 'VP'),\n",
              " (5, '한', 6, 'DP'),\n",
              " (6, '시간', 7, 'NP_OBJ'),\n",
              " (7, '기다렸어요.', -1, 'VP')]"
            ]
          },
          "metadata": {
            "tags": []
          },
          "execution_count": 6
        }
      ]
    },
    {
      "cell_type": "code",
      "metadata": {
        "colab": {
          "base_uri": "https://localhost:8080/"
        },
        "id": "SJx3XWQFS0bU",
        "outputId": "e98a155a-47a6-4705-8ef1-ddad587dd120"
      },
      "source": [
        "# SEQUENCE TAGGING\r\n",
        "# Fill-in-the-blank : Fill-in-the-blank related modeling class\r\n",
        "# 문장의 빈칸 채울 단어 판단\r\n",
        "\r\n",
        "fib = Pororo(task=\"fib\", lang=\"ko\")\r\n",
        "fib(\"손흥민은 __의 축구선수이다.\")"
      ],
      "execution_count": null,
      "outputs": [
        {
          "output_type": "stream",
          "text": [
            "\n"
          ],
          "name": "stderr"
        },
        {
          "output_type": "execute_result",
          "data": {
            "text/plain": [
              "['대한민국',\n",
              " '잉글랜드',\n",
              " '독일',\n",
              " '스웨덴',\n",
              " '네덜란드',\n",
              " '덴마크',\n",
              " '미국',\n",
              " '웨일스',\n",
              " '노르웨이',\n",
              " '벨기에',\n",
              " '프랑스',\n",
              " '국적',\n",
              " '일본',\n",
              " '한국']"
            ]
          },
          "metadata": {
            "tags": []
          },
          "execution_count": 32
        }
      ]
    },
    {
      "cell_type": "code",
      "metadata": {
        "colab": {
          "base_uri": "https://localhost:8080/"
        },
        "id": "Y5u8tB6qw0wN",
        "outputId": "14dab9ee-4105-4f1f-9de8-07df147cfbfe"
      },
      "source": [
        "# SEQUENCE TAGGING\r\n",
        "# Machine Reading Comprehension : Reading Comprehension related modeling class\r\n",
        "# 문장 내 질문에 대한 답변\r\n",
        "\r\n",
        "mrc = Pororo(task=\"mrc\", lang=\"ko\")\r\n",
        "mrc(\r\n",
        "   \"카카오브레인이 공개한 것은?\",\r\n",
        "   \"카카오 인공지능(AI) 연구개발 자회사 카카오브레인이 AI 솔루션을 첫 상품화했다. 카카오는 카카오브레인 '포즈(pose·자세분석) API'를 유료 공개한다고 24일 밝혔다. 카카오브레인이 AI 기술을 유료 API를 공개하는 것은 처음이다. 공개하자마자 외부 문의가 쇄도한다. 포즈는 AI 비전(VISION, 영상·화면분석) 분야 중 하나다. 카카오브레인 포즈 API는 이미지나 영상을 분석해 사람 자세를 추출하는 기능을 제공한다.\"\r\n",
        ")"
      ],
      "execution_count": null,
      "outputs": [
        {
          "output_type": "stream",
          "text": [
            "\n"
          ],
          "name": "stderr"
        },
        {
          "output_type": "execute_result",
          "data": {
            "text/plain": [
              "('포즈(pose·자세분석) API', (33, 44))"
            ]
          },
          "metadata": {
            "tags": []
          },
          "execution_count": 33
        }
      ]
    },
    {
      "cell_type": "code",
      "metadata": {
        "colab": {
          "base_uri": "https://localhost:8080/"
        },
        "id": "-sPWzeOexWC_",
        "outputId": "b2daf47d-5d25-449d-ef15-2b6ab7bb80fe"
      },
      "source": [
        "# SEQUENCE TAGGING\r\n",
        "# Named Entity Recognition : Named Entity Recognition related modeling class\r\n",
        "# 개체명 인식\r\n",
        "\r\n",
        "ner = Pororo(task=\"ner\", lang=\"ko\")\r\n",
        "#ner(\"손흥민은 28세의 183 센티미터, 77 킬로그램이며, 현재 주급은 약 3억 원이다.\")\r\n",
        "\r\n",
        "# 제넥신, 대규모 기술수출 계약에 '급등'\r\n",
        "#ner(\"제넥신, 대규모 기술수출 계약에 '급등'\")\r\n",
        "\r\n",
        "# F&F, 지난해 4분기 깜짝 실적 발표...52주 신고가 경신\r\n",
        "#ner(\"F&F, 지난해 4분기 깜짝 실적 발표...52주 신고가 경신\")\r\n",
        "\r\n",
        "# OCI, 미국  중국산 폴리실리콘 불매 추진에  신고가\r\n",
        "#ner(\"OCI, 미국  중국산 폴리실리콘 불매 추진에  신고가\")\r\n",
        "\r\n",
        "# 삼성증권, 서학개미 대상 최대 100달러 증정 이벤트\r\n",
        "# ner(\"삼성증권, 서학개미 대상 최대 100달러 증정 이벤트\")\r\n",
        "\r\n",
        "# 대상 청정원 아이사랑, 비대면 보육 환경 개선 추진\r\n",
        "# ner(\"대상 청정원 아이사랑, 비대면 보육 환경 개선 추진\")\r\n",
        "\r\n",
        "# 대상 아이사랑, 비대면 보육 환경 개선 추진에\r\n",
        "# ner(\"대상 아이사랑, 비대면 보육 환경 개선 추진\")\r\n",
        "\"\"\"\r\n",
        "[('대상', 'O'),\r\n",
        " (' ', 'O'),\r\n",
        " ('아이사랑,', 'O'),\r\n",
        " (' ', 'O'),\r\n",
        " ('비대면', 'O'),\r\n",
        " (' ', 'O'),\r\n",
        " ('보육', 'O'),\r\n",
        " (' ', 'O'),\r\n",
        " ('환경', 'O'),\r\n",
        " (' ', 'O'),\r\n",
        " ('개선', 'O'),\r\n",
        " (' ', 'O'),\r\n",
        " ('추진', 'O')]\r\n",
        "\"\"\"\r\n",
        "# 서울시, 외국인 근로자 기숙시설 215개소 대상 ‘특별점검’ 추진\r\n",
        "# ner(\"서울시, 외국인 근로자 기숙시설 215개소 대상 ‘특별점검’ 추진\")\r\n",
        "\r\n",
        "# 대구교육청 예비 고1 대상 학생부종합전형 가이드북 제공\r\n",
        "# ner(\"대구교육청 예비 고1 대상 학생부종합전형 가이드북 제공\")\r\n",
        "\r\n",
        "# 올해 들어 고용유지지원금 1천600억원 지급…노동자 14만명 대상\r\n",
        "ner(\"대구교육청 예비 고1 대상 학생부종합전형 가이드북 제공\")"
      ],
      "execution_count": null,
      "outputs": [
        {
          "output_type": "execute_result",
          "data": {
            "text/plain": [
              "[('대구교육청', 'ORGANIZATION'),\n",
              " (' ', 'O'),\n",
              " ('예비', 'O'),\n",
              " (' ', 'O'),\n",
              " ('고1', 'QUANTITY'),\n",
              " (' ', 'O'),\n",
              " ('대상', 'O'),\n",
              " (' ', 'O'),\n",
              " ('학생부종합', 'CIVILIZATION'),\n",
              " ('전형', 'O'),\n",
              " (' ', 'O'),\n",
              " ('가이드북', 'O'),\n",
              " (' ', 'O'),\n",
              " ('제공', 'O')]"
            ]
          },
          "metadata": {
            "tags": []
          },
          "execution_count": 44
        }
      ]
    },
    {
      "cell_type": "code",
      "metadata": {
        "colab": {
          "base_uri": "https://localhost:8080/"
        },
        "id": "Vu1buFaFz8MV",
        "outputId": "2ff1ce47-1bea-4417-84a3-74c421a7e3c8"
      },
      "source": [
        "# SEQUENCE TAGGING\r\n",
        "# Part-of-Speech Tagging : Part-Of-Speech Tagging related modeling class\r\n",
        "# 형태소 분석 판단 (mecab-ko)\r\n",
        "\r\n",
        "pos = Pororo(task=\"pos\", lang=\"ko\")\r\n",
        "pos(\"안녕하세요. 제 이름은 제임스 카터입니다.\")"
      ],
      "execution_count": null,
      "outputs": [
        {
          "output_type": "execute_result",
          "data": {
            "text/plain": [
              "[('안녕', 'NNG'),\n",
              " ('하', 'XSV'),\n",
              " ('시', 'EP'),\n",
              " ('어요', 'EF'),\n",
              " ('.', 'SF'),\n",
              " (' ', 'SPACE'),\n",
              " ('저', 'NP'),\n",
              " ('의', 'JKG'),\n",
              " (' ', 'SPACE'),\n",
              " ('이름', 'NNG'),\n",
              " ('은', 'JX'),\n",
              " (' ', 'SPACE'),\n",
              " ('제임스', 'NNP'),\n",
              " (' ', 'SPACE'),\n",
              " ('카터', 'NNP'),\n",
              " ('이', 'VCP'),\n",
              " ('ᄇ니다', 'EF'),\n",
              " ('.', 'SF')]"
            ]
          },
          "metadata": {
            "tags": []
          },
          "execution_count": 45
        }
      ]
    },
    {
      "cell_type": "code",
      "metadata": {
        "colab": {
          "base_uri": "https://localhost:8080/"
        },
        "id": "ny-_GCLw0bSi",
        "outputId": "a3bc21d3-e20a-4d61-c7d2-7173626fb9b9"
      },
      "source": [
        "# SEQUENCE TAGGING\r\n",
        "# Semantic Role Labeling : Semantic Role Labeling related modeling class\r\n",
        "# 의미역 결정\r\n",
        "\r\n",
        "srl = Pororo(task=\"srl\", lang=\"ko\")\r\n",
        "srl(\"카터는 역삼에서 카카오브레인으로 출근한다.\")"
      ],
      "execution_count": null,
      "outputs": [
        {
          "output_type": "stream",
          "text": [
            "\n"
          ],
          "name": "stderr"
        },
        {
          "output_type": "execute_result",
          "data": {
            "text/plain": [
              "[[('카터는', 'AGT'),\n",
              "  ('역삼에서', 'LOC'),\n",
              "  ('카카오브레인으로', 'GOL'),\n",
              "  ('출근한다.', 'PREDICATE')]]"
            ]
          },
          "metadata": {
            "tags": []
          },
          "execution_count": 7
        }
      ]
    },
    {
      "cell_type": "code",
      "metadata": {
        "colab": {
          "base_uri": "https://localhost:8080/",
          "height": 71
        },
        "id": "HtMKLLW925P8",
        "outputId": "73b08da8-ac7c-4c76-9d13-48ad412ff347"
      },
      "source": [
        "# SEQ2SEQ\r\n",
        "# Constituency Parsing : Constituency Parsing related modeling class\r\n",
        "# \r\n",
        "\r\n",
        "const = Pororo(task=\"const\", lang=\"ko\")\r\n",
        "const(\"미국에서도 같은 우려가 나오고 있다.\")"
      ],
      "execution_count": null,
      "outputs": [
        {
          "output_type": "stream",
          "text": [
            "\n",
            "\n"
          ],
          "name": "stderr"
        },
        {
          "output_type": "execute_result",
          "data": {
            "application/vnd.google.colaboratory.intrinsic+json": {
              "type": "string"
            },
            "text/plain": [
              "'<S>\\n\\t<NP_AJT>미국+에서+도</NP_AJT>\\n\\t<S>\\n\\t\\t<NP_SBJ>\\n\\t\\t\\t<VP_MOD>같+은</VP_MOD>\\n\\t\\t\\t<NP_SBJ>우려+가</NP_SBJ>\\n\\t\\t</NP_SBJ>\\n\\t\\t<VP>\\n\\t\\t\\t<VP>나오+고</VP>\\n\\t\\t\\t<VP>있+다+.</VP>\\n\\t\\t</VP>\\n\\t</S>\\n</S>'"
            ]
          },
          "metadata": {
            "tags": []
          },
          "execution_count": 8
        }
      ]
    },
    {
      "cell_type": "code",
      "metadata": {
        "colab": {
          "base_uri": "https://localhost:8080/",
          "height": 71
        },
        "id": "BN7YViWk3Q2w",
        "outputId": "be8197a1-9c2f-443b-e8ed-55d3eb72c7d8"
      },
      "source": [
        "# SEQ2SEQ\r\n",
        "# Grammatical Error Correction : Grammatical Error Correction related modeling class\r\n",
        "# 문법적 에러 교정\r\n",
        "\r\n",
        "spacing = Pororo(task=\"gec\", lang=\"ko\")\r\n",
        "spacing(\"카 카오브 레인에서는 무슨 일을 하 나 요?\")\r\n",
        "\r\n",
        "# 결과\r\n",
        "# 카카오브레인에서는 무슨 일을 하나요?"
      ],
      "execution_count": null,
      "outputs": [
        {
          "output_type": "stream",
          "text": [
            "\n"
          ],
          "name": "stderr"
        },
        {
          "output_type": "stream",
          "text": [
            "As of now, this beta model tries to correct spacing errors in Korean text.\n"
          ],
          "name": "stdout"
        },
        {
          "output_type": "execute_result",
          "data": {
            "application/vnd.google.colaboratory.intrinsic+json": {
              "type": "string"
            },
            "text/plain": [
              "'카카오브레인에서는 무슨 일을 하나요?'"
            ]
          },
          "metadata": {
            "tags": []
          },
          "execution_count": 9
        }
      ]
    },
    {
      "cell_type": "code",
      "metadata": {
        "colab": {
          "base_uri": "https://localhost:8080/",
          "height": 35
        },
        "id": "OHuScYsp3rDq",
        "outputId": "541fe04e-1ac2-4969-d78f-430df974a5f7"
      },
      "source": [
        "# SEQ2SEQ\r\n",
        "# Grapheme-to-Phoneme : Grapheme to Phoneme related modeling class\r\n",
        "# 문자소 -> 음소 변환\r\n",
        "\r\n",
        "#fix\r\n",
        "# !pip install g2pk\r\n",
        "\r\n",
        "g2p = Pororo(task=\"g2p\", lang=\"ko\")\r\n",
        "g2p(\"어제는 날씨가 맑았는데, 오늘은 흐리다.\")\r\n",
        "\r\n",
        "# 답\r\n",
        "# 어제는 날씨가 말간는데, 오느른 흐리다."
      ],
      "execution_count": null,
      "outputs": [
        {
          "output_type": "execute_result",
          "data": {
            "application/vnd.google.colaboratory.intrinsic+json": {
              "type": "string"
            },
            "text/plain": [
              "'어제는 날씨가 말간는데, 오느른 흐리다.'"
            ]
          },
          "metadata": {
            "tags": []
          },
          "execution_count": 13
        }
      ]
    },
    {
      "cell_type": "code",
      "metadata": {
        "colab": {
          "base_uri": "https://localhost:8080/"
        },
        "id": "uDX_elqF4W_T",
        "outputId": "25f0216b-c024-4675-a8a5-96dd74f1a68b"
      },
      "source": [
        "# SEQ2SEQ\r\n",
        "# Phoneme-to-Grapheme : Phoneme to Grapheme related modeling class\r\n",
        "# 음소 -> 문자소 변환\r\n",
        "\r\n",
        "# 한국어 지원안함\r\n",
        "# 일본어, 중국어만 지원\r\n",
        "\r\n",
        "p2g_zh = Pororo(task=\"p2g\", lang=\"zh\")\r\n",
        "p2g_zh(['ran2', 'er2', '，', 'ta1', 'hong2', 'le5', '20', 'nian2', 'yi3', 'hou4', '，', 'ta1', 'jing4', 'tui4', 'chu1', 'le5', 'da4', 'jia1', 'de5', 'shi4', 'xian4', '。'])\r\n",
        "['然', '而', '，', '他', '红', '了', '20', '年', '乙', '后', '，', '他', '敬', '退', '出', '了', '大', '家', '的', '市', '县', '。']"
      ],
      "execution_count": null,
      "outputs": [
        {
          "output_type": "stream",
          "text": [
            "\n",
            "\n",
            "\n"
          ],
          "name": "stderr"
        },
        {
          "output_type": "execute_result",
          "data": {
            "text/plain": [
              "['然',\n",
              " '而',\n",
              " '，',\n",
              " '他',\n",
              " '红',\n",
              " '了',\n",
              " '20',\n",
              " '年',\n",
              " '乙',\n",
              " '后',\n",
              " '，',\n",
              " '他',\n",
              " '敬',\n",
              " '退',\n",
              " '出',\n",
              " '了',\n",
              " '大',\n",
              " '家',\n",
              " '的',\n",
              " '市',\n",
              " '县',\n",
              " '。']"
            ]
          },
          "metadata": {
            "tags": []
          },
          "execution_count": 15
        }
      ]
    },
    {
      "cell_type": "code",
      "metadata": {
        "colab": {
          "base_uri": "https://localhost:8080/",
          "height": 35
        },
        "id": "o6GkRF6Y5EMu",
        "outputId": "ef2d1fa2-ce89-4892-bea1-de7cd3c9f2c0"
      },
      "source": [
        "# SEQ2SEQ\r\n",
        "# Machine Translation : Machine-translation related modeling class\r\n",
        "# 독해\r\n",
        "\r\n",
        "mt = Pororo(task=\"translation\", lang=\"multi\")\r\n",
        "# KO -> EN\r\n",
        "# mt(\"케빈은 아직도 일을 하고 있다.\", src=\"ko\", tgt=\"en\")\r\n",
        "\r\n",
        "# EN -> KO\r\n",
        "#mt(\"Global stocks mixed as investors weigh recovery hopes and inflation fears.\", src=\"en\", tgt=\"ko\")\r\n",
        "\r\n",
        "mt(\"Global stock markets were mixed on Thursday, as investors weighed inflation fears against recovery hopes that have fuelled a global bull run and taken stocks to record highs this month.\", src=\"en\", tgt=\"ko\")"
      ],
      "execution_count": null,
      "outputs": [
        {
          "output_type": "execute_result",
          "data": {
            "application/vnd.google.colaboratory.intrinsic+json": {
              "type": "string"
            },
            "text/plain": [
              "'글로벌 주식시장은 목요일에 혼합되었다. 투자자들은 세계적인 불운을 가중시키고 이달 들어 최고치를 기록하고 있는 회복 희망에 대한 인플레이션 우려가 커지고 있다.'"
            ]
          },
          "metadata": {
            "tags": []
          },
          "execution_count": 28
        }
      ]
    },
    {
      "cell_type": "code",
      "metadata": {
        "colab": {
          "base_uri": "https://localhost:8080/",
          "height": 35
        },
        "id": "kvle6qzX7aDa",
        "outputId": "2479513e-ff88-4a06-cd8c-93eb4c2ce2a9"
      },
      "source": [
        "# SEQ2SEQ\r\n",
        "# Paraphrase Generation : Paraphrase Generation modeling class\r\n",
        "# 동의 문장 생성\r\n",
        "\r\n",
        "pg = Pororo(task=\"pg\", lang=\"ko\")\r\n",
        "pg(\"노는게 제일 좋아. 친구들 모여라. 언제나 즐거워.\")"
      ],
      "execution_count": null,
      "outputs": [
        {
          "output_type": "execute_result",
          "data": {
            "application/vnd.google.colaboratory.intrinsic+json": {
              "type": "string"
            },
            "text/plain": [
              "'노는 게 제일 좋아, 친구들 모여. 항상 즐거워.'"
            ]
          },
          "metadata": {
            "tags": []
          },
          "execution_count": 29
        }
      ]
    },
    {
      "cell_type": "code",
      "metadata": {
        "colab": {
          "base_uri": "https://localhost:8080/"
        },
        "id": "p6CLA4M19Byr",
        "outputId": "d469e448-6ac4-46b6-c369-d3b2855b71e5"
      },
      "source": [
        "# SEQ2SEQ\r\n",
        "# Question Generation : Question generation related modeling class\r\n",
        "# 질문 생성\r\n",
        "\r\n",
        "qg = Pororo(task=\"qg\", lang=\"ko\")\r\n",
        "\r\n",
        "\"\"\"\r\n",
        "qg(\r\n",
        "    \"카카오톡\",\r\n",
        "    \"카카오톡은 스마트폰의 데이터 통신 기능을 이용하여, 문자 과금 없이 사람들과 메시지를 주고받을 수 있는 애플리케이션이다. 스마트폰 대중화 이 후 기존 인스턴트 메신저 앱의 번거로운 친구 추가 절차 없이, 스마트폰 주소록의 전 화번호만으로 손쉽게 메시지를 주고받을 수 있는 것이 특징이다.\",\r\n",
        "    n_wrong=3\r\n",
        ")\r\n",
        "\"\"\"\r\n",
        "\r\n",
        "qg(\r\n",
        "    \"카카오톡\",\r\n",
        "    [\"카카오톡은 스마트폰의 데이터 통신 기능을 이용하여, 문자 과금 없이 사람들과 메시지를 주고받을 수 있는 애플리케이션이다. 스마트폰 대중화 이 후 기존 인스턴트 메신저 앱의 번거로운 친구 추가 절차 없이, 스마트폰 주소록의 전화번호만으로 손쉽게 메시지를 주고받을 수 있는 것이 특징이다.\",\r\n",
        "    \"메시징 서비스와 사회관계망서비스(SNS) 등 소셜미디어를 사용하는 사람들이 뉴스를 볼 때 가장 선호하는 플랫폼은 카카오톡인 것으로 나타났다. 30일 한국언론진흥재단이 최근 공개한 '2017 소셜미디어 이용자 조사' 결과를 보면 소셜미디어로 뉴스를 본 경험이 있는 우리나라 국민 1천747명에게 뉴스 이용 플랫폼을 중복으로 선택하게 한 결과 50.4%가 카카오톡을 사용했다고 답했다. 카카오톡 다음으로는 페이스북(42%) 사용률이 높았으며 유튜브(31.8%)가 뒤를 이었다.\"],\r\n",
        "    n_wrong=3\r\n",
        ")"
      ],
      "execution_count": null,
      "outputs": [
        {
          "output_type": "execute_result",
          "data": {
            "text/plain": [
              "[('스마트폰의 데이터 통신 기능으로 문자 과금 없이 사람들과 메시지를 주고받을 수 있는 앱을 뭐라고 해?',\n",
              "  ['텔레그램', '챗온', '디스코드']),\n",
              " ('메시징 서비스와 사회관계망서비스(SNS) 등 소셜미디어를 사용하는 사람들이 뉴스를 볼 때 가장 선호하는 플랫폼은 뭐야?',\n",
              "  ['텔레그램', '챗온', '디스코드'])]"
            ]
          },
          "metadata": {
            "tags": []
          },
          "execution_count": 31
        }
      ]
    },
    {
      "cell_type": "code",
      "metadata": {
        "colab": {
          "base_uri": "https://localhost:8080/",
          "height": 53
        },
        "id": "AHZ7pwQm-bZ8",
        "outputId": "47307508-19df-42fb-bf94-591b58cd4188"
      },
      "source": [
        "# SEQ2SEQ\r\n",
        "# Text Summarization : Text Summarization related modeling class\r\n",
        "# 문장 요약\r\n",
        "\r\n",
        "# 초록\r\n",
        "#summ = Pororo(task=\"summarization\", model=\"abstractive\", lang=\"ko\")\r\n",
        "# '카카오 브레인에서 자연어 이해의 중심 과제들로 많이 이야기되는 한국어 자연어 처리를 위한 새로운 데이터셋인 KorNLI와 KorSTS 데이터셋을 공개했다.'\r\n",
        "\r\n",
        "# 핵심 단어\r\n",
        "# summ = Pororo(task=\"summarization\", model=\"bullet\", lang=\"ko\")\r\n",
        "# ['KorNLI와 KorSTS에 baseline 설정', ' 새로운 NLI와 STS 데이터 셋 공개']\r\n",
        "\r\n",
        "# 핵심 문장\r\n",
        "summ = Pororo(task=\"summarization\", model=\"extractive\", lang=\"ko\")\r\n",
        "# 카카오 브레인에서 한국어 자연어 처리를 위한 새로운 데이터셋을 공개했다는 내용이다. 이에 동기를 얻어 새로운 한국어 NLI와 STS 데이터 셋을 공개한다. 한국어 NLU에 대한 연구가 더 활성화되길 바라며, KorNLI와 KorSTS에 baseline을 설정하며, Github에 공개한다.\r\n",
        "\r\n",
        "summ(\"20년 4월 8일 자로 아카이브에 올라온 뜨끈뜨끈한 논문을 찾았다. 카카오 브레인에서 한국어 자연어 처리를 위한 새로운 데이터셋을 공개했다는 내용이다. 자연어 추론(NLI)와 텍스트의 의미적 유사성(STS)는 자연어 이해(NLU)에서 핵심 과제. 영어나 다른 언어들은 데이터셋이 몇 개 있는데, 한국어로 된 NLI나 STS 공개 데이터셋이 없다. 이에 동기를 얻어 새로운 한국어 NLI와 STS 데이터 셋을 공개한다. 이전 의 접근 방식에 따라 기존의 영어 훈련 세트를 기계 번역(machine-translate)하고 develop set과 test set을 수동으로 한국어로 번역한다. 한국어 NLU에 대한 연구가 더 활성화되길 바라며, KorNLI와 KorSTS에 baseline을 설정하며, Github에 공개한다. NLI와 STS는 자연어 이해의 중심 과제들로 많이 이야기가 된다. 이에 따라 몇몇 벤치마크 데이터셋은 영어로 된 NLI와 STS를 공개했었다. 그러나 한국어 NLI와 STS 벤치마크  데이터셋은 존재하지 않았다. 대부분의 자연어 처리 연구가 사람들이 많이 쓰는 언어들을 바탕으로 연구  가 되기 때문. 유명한 한국어 NLU 데이터 셋이 전형적으로 QA나 감정 분석은 포함은 되어있는데 NLI나 STS는 아니다. 한국어로 된 공개 NLI나 STS 벤치마크 데이터셋이 없어서 이런 핵심과제에 적합한 한국어 NLU 모델 구축에 대한 관심이 부족했다고 생각한다. 이에 동기를 얻어 KorNLI와 KorSTS를 만들었다.\")"
      ],
      "execution_count": null,
      "outputs": [
        {
          "output_type": "execute_result",
          "data": {
            "application/vnd.google.colaboratory.intrinsic+json": {
              "type": "string"
            },
            "text/plain": [
              "'카카오 브레인에서 한국어 자연어 처리를 위한 새로운 데이터셋을 공개했다는 내용이다. 이에 동기를 얻어 새로운 한국어 NLI와 STS 데이터 셋을 공개한다. 한국어 NLU에 대한 연구가 더 활성화되길 바라며, KorNLI와 KorSTS에 baseline을 설정하며, Github에 공개한다.'"
            ]
          },
          "metadata": {
            "tags": []
          },
          "execution_count": 34
        }
      ]
    },
    {
      "cell_type": "code",
      "metadata": {
        "colab": {
          "base_uri": "https://localhost:8080/"
        },
        "id": "j9yxGzUeAOyr",
        "outputId": "33c41c34-f614-4d01-a4c6-0633f1abf6af"
      },
      "source": [
        "# SEQ2SEQ\r\n",
        "# Word Sense Disambiguation : Word Sense Disambiguation related modeling class\r\n",
        "# 단어 의미 명확화\r\n",
        "\r\n",
        "wsd = Pororo(task=\"wsd\", lang=\"ko\")\r\n",
        "wsd(\"머리에 이가 있나봐.\")"
      ],
      "execution_count": null,
      "outputs": [
        {
          "output_type": "stream",
          "text": [
            "\n",
            "\n",
            "\n",
            "\n",
            "\n"
          ],
          "name": "stderr"
        },
        {
          "output_type": "execute_result",
          "data": {
            "text/plain": [
              "[detail(morph='머리', pos='NNG', sense_id='01', original=None, meaning='사람이나 동물의 목 위의 부분', english='head'),\n",
              " detail(morph='에', pos='JKB', sense_id=None, original=None, meaning=None, english=None),\n",
              " detail(morph='▁', pos='SPACE', sense_id=None, original=None, meaning=None, english=None),\n",
              " detail(morph='이', pos='NNG', sense_id='01', original=None, meaning='이목의 곤충을 통틀어 이르는 말', english='louse'),\n",
              " detail(morph='가', pos='JKS', sense_id=None, original=None, meaning=None, english=None),\n",
              " detail(morph='▁', pos='SPACE', sense_id=None, original=None, meaning=None, english=None),\n",
              " detail(morph='있', pos='VA', sense_id='01', original=None, meaning='사람이나 동물이 어느 곳에서 떠나거나 벗어나지 아니하고 머물다', english='be; stay'),\n",
              " detail(morph='나', pos='EC', sense_id=None, original=None, meaning=None, english=None),\n",
              " detail(morph='보', pos='VX', sense_id=None, original=None, meaning=None, english=None),\n",
              " detail(morph='아', pos='EF', sense_id=None, original=None, meaning=None, english=None),\n",
              " detail(morph='.', pos='SF', sense_id=None, original=None, meaning=None, english=None)]"
            ]
          },
          "metadata": {
            "tags": []
          },
          "execution_count": 35
        }
      ]
    },
    {
      "cell_type": "code",
      "metadata": {
        "colab": {
          "base_uri": "https://localhost:8080/",
          "height": 520
        },
        "id": "RMZTXnOkAu2B",
        "outputId": "4165d99b-33bd-4c0f-bed7-db5be30ca55e"
      },
      "source": [
        "# MISC\r\n",
        "# Automatic Speech Recognition : Automatic Speech Recognition related modeling class\r\n",
        "#\r\n",
        "\r\n",
        "# error\r\n",
        "\"\"\"\r\n",
        "/usr/local/lib/python3.6/dist-packages/pororo/models/wav2vec2/submodules.py in <module>()\r\n",
        "     13 )\r\n",
        "     14 from fairseq.tasks.audio_pretraining import AudioPretrainingTask\r\n",
        "---> 15 from wav2letter.criterion import CpuViterbiPath, get_data_ptr_as_bytes\r\n",
        "     16 from wav2letter.decoder import CriterionType\r\n",
        "     17 \r\n",
        "\"\"\"\r\n",
        "\r\n",
        "asr = Pororo(task='asr', lang='ko')\r\n",
        "asr('korean_speech.wav')"
      ],
      "execution_count": null,
      "outputs": [
        {
          "output_type": "error",
          "ename": "ModuleNotFoundError",
          "evalue": "ignored",
          "traceback": [
            "\u001b[0;31m---------------------------------------------------------------------------\u001b[0m",
            "\u001b[0;31mModuleNotFoundError\u001b[0m                       Traceback (most recent call last)",
            "\u001b[0;32m<ipython-input-44-8aaecbc08907>\u001b[0m in \u001b[0;36m<module>\u001b[0;34m()\u001b[0m\n\u001b[1;32m      5\u001b[0m \u001b[0;31m# error\u001b[0m\u001b[0;34m\u001b[0m\u001b[0;34m\u001b[0m\u001b[0;34m\u001b[0m\u001b[0m\n\u001b[1;32m      6\u001b[0m \u001b[0;34m\u001b[0m\u001b[0m\n\u001b[0;32m----> 7\u001b[0;31m \u001b[0masr\u001b[0m \u001b[0;34m=\u001b[0m \u001b[0mPororo\u001b[0m\u001b[0;34m(\u001b[0m\u001b[0mtask\u001b[0m\u001b[0;34m=\u001b[0m\u001b[0;34m'asr'\u001b[0m\u001b[0;34m,\u001b[0m \u001b[0mlang\u001b[0m\u001b[0;34m=\u001b[0m\u001b[0;34m'ko'\u001b[0m\u001b[0;34m)\u001b[0m\u001b[0;34m\u001b[0m\u001b[0;34m\u001b[0m\u001b[0m\n\u001b[0m\u001b[1;32m      8\u001b[0m \u001b[0masr\u001b[0m\u001b[0;34m(\u001b[0m\u001b[0;34m'korean_speech.wav'\u001b[0m\u001b[0;34m)\u001b[0m\u001b[0;34m\u001b[0m\u001b[0;34m\u001b[0m\u001b[0m\n",
            "\u001b[0;32m/usr/local/lib/python3.6/dist-packages/pororo/pororo.py\u001b[0m in \u001b[0;36m__new__\u001b[0;34m(cls, task, lang, model, **kwargs)\u001b[0m\n\u001b[1;32m    206\u001b[0m             \u001b[0mmodel\u001b[0m\u001b[0;34m,\u001b[0m\u001b[0;34m\u001b[0m\u001b[0;34m\u001b[0m\u001b[0m\n\u001b[1;32m    207\u001b[0m             \u001b[0;34m**\u001b[0m\u001b[0mkwargs\u001b[0m\u001b[0;34m,\u001b[0m\u001b[0;34m\u001b[0m\u001b[0;34m\u001b[0m\u001b[0m\n\u001b[0;32m--> 208\u001b[0;31m         ).load(device)\n\u001b[0m\u001b[1;32m    209\u001b[0m \u001b[0;34m\u001b[0m\u001b[0m\n\u001b[1;32m    210\u001b[0m         \u001b[0;32mreturn\u001b[0m \u001b[0mtask_module\u001b[0m\u001b[0;34m\u001b[0m\u001b[0;34m\u001b[0m\u001b[0m\n",
            "\u001b[0;32m/usr/local/lib/python3.6/dist-packages/pororo/tasks/automatic_speech_recognition.py\u001b[0m in \u001b[0;36mload\u001b[0;34m(self, device)\u001b[0m\n\u001b[1;32m    103\u001b[0m                 \u001b[0;34m'Support Languages : [\"ko\", \"en\", \"zh\"]'\u001b[0m\u001b[0;34m,\u001b[0m\u001b[0;34m\u001b[0m\u001b[0;34m\u001b[0m\u001b[0m\n\u001b[1;32m    104\u001b[0m             )\n\u001b[0;32m--> 105\u001b[0;31m         \u001b[0;32mfrom\u001b[0m \u001b[0mpororo\u001b[0m\u001b[0;34m.\u001b[0m\u001b[0mmodels\u001b[0m\u001b[0;34m.\u001b[0m\u001b[0mwav2vec2\u001b[0m\u001b[0;34m.\u001b[0m\u001b[0mrecognizer\u001b[0m \u001b[0;32mimport\u001b[0m \u001b[0mBrainWav2Vec2Recognizer\u001b[0m\u001b[0;34m\u001b[0m\u001b[0;34m\u001b[0m\u001b[0m\n\u001b[0m\u001b[1;32m    106\u001b[0m \u001b[0;34m\u001b[0m\u001b[0m\n\u001b[1;32m    107\u001b[0m         model_path = download_or_load(\n",
            "\u001b[0;32m/usr/local/lib/python3.6/dist-packages/pororo/models/wav2vec2/recognizer.py\u001b[0m in \u001b[0;36m<module>\u001b[0;34m()\u001b[0m\n\u001b[1;32m     13\u001b[0m \u001b[0;34m\u001b[0m\u001b[0m\n\u001b[1;32m     14\u001b[0m \u001b[0;32mfrom\u001b[0m \u001b[0mpororo\u001b[0m\u001b[0;34m.\u001b[0m\u001b[0mmodels\u001b[0m\u001b[0;34m.\u001b[0m\u001b[0mvad\u001b[0m \u001b[0;32mimport\u001b[0m \u001b[0mVoiceActivityDetection\u001b[0m\u001b[0;34m\u001b[0m\u001b[0;34m\u001b[0m\u001b[0m\n\u001b[0;32m---> 15\u001b[0;31m from pororo.models.wav2vec2.submodules import (\n\u001b[0m\u001b[1;32m     16\u001b[0m     \u001b[0mBrainWav2VecCtc\u001b[0m\u001b[0;34m,\u001b[0m\u001b[0;34m\u001b[0m\u001b[0;34m\u001b[0m\u001b[0m\n\u001b[1;32m     17\u001b[0m     \u001b[0mW2lViterbiDecoder\u001b[0m\u001b[0;34m,\u001b[0m\u001b[0;34m\u001b[0m\u001b[0;34m\u001b[0m\u001b[0m\n",
            "\u001b[0;32m/usr/local/lib/python3.6/dist-packages/pororo/models/wav2vec2/submodules.py\u001b[0m in \u001b[0;36m<module>\u001b[0;34m()\u001b[0m\n\u001b[1;32m     13\u001b[0m )\n\u001b[1;32m     14\u001b[0m \u001b[0;32mfrom\u001b[0m \u001b[0mfairseq\u001b[0m\u001b[0;34m.\u001b[0m\u001b[0mtasks\u001b[0m\u001b[0;34m.\u001b[0m\u001b[0maudio_pretraining\u001b[0m \u001b[0;32mimport\u001b[0m \u001b[0mAudioPretrainingTask\u001b[0m\u001b[0;34m\u001b[0m\u001b[0;34m\u001b[0m\u001b[0m\n\u001b[0;32m---> 15\u001b[0;31m \u001b[0;32mfrom\u001b[0m \u001b[0mwav2letter\u001b[0m\u001b[0;34m.\u001b[0m\u001b[0mcriterion\u001b[0m \u001b[0;32mimport\u001b[0m \u001b[0mCpuViterbiPath\u001b[0m\u001b[0;34m,\u001b[0m \u001b[0mget_data_ptr_as_bytes\u001b[0m\u001b[0;34m\u001b[0m\u001b[0;34m\u001b[0m\u001b[0m\n\u001b[0m\u001b[1;32m     16\u001b[0m \u001b[0;32mfrom\u001b[0m \u001b[0mwav2letter\u001b[0m\u001b[0;34m.\u001b[0m\u001b[0mdecoder\u001b[0m \u001b[0;32mimport\u001b[0m \u001b[0mCriterionType\u001b[0m\u001b[0;34m\u001b[0m\u001b[0;34m\u001b[0m\u001b[0m\n\u001b[1;32m     17\u001b[0m \u001b[0;34m\u001b[0m\u001b[0m\n",
            "\u001b[0;31mModuleNotFoundError\u001b[0m: No module named 'wav2letter'",
            "",
            "\u001b[0;31m---------------------------------------------------------------------------\u001b[0;32m\nNOTE: If your import is failing due to a missing package, you can\nmanually install dependencies using either !pip or !apt.\n\nTo view examples of installing some common dependencies, click the\n\"Open Examples\" button below.\n\u001b[0;31m---------------------------------------------------------------------------\u001b[0m\n"
          ]
        }
      ]
    },
    {
      "cell_type": "code",
      "metadata": {
        "colab": {
          "base_uri": "https://localhost:8080/",
          "height": 257,
          "referenced_widgets": [
            "ab6af0adc6304a57a14190e4c85d5799",
            "d43a9601dae947638f960ec582edb093",
            "b1bb0edff20c4b2a8361be776fd04a0b",
            "4e4bcfed1105471c93b5ba951d4e5748",
            "e2bb5b394c164d1fb7fd998ea797d050",
            "3347b82554b7461e82aaee7f61bfc183",
            "145821fad44943638280af8290a7710d",
            "887b39f6ac5d4fe584e2bae60fc7ee2e",
            "d505a5fc65144f6c87f5683419c5be6a",
            "e6669ce0394b4166a97293e8fbcf8ef3",
            "e38598c5e74f4ad7baf31cf042fba4d3",
            "79ad0842ce0b4a0eb76d3fa7a2d1f6a3",
            "f2d2f31ea0d846feb8c20cbd7a836af4",
            "9a9445d8c4994fba82c708da7722fab9",
            "4f0c47f6dcc3422ab988f1f0ac6bb014",
            "6ee19bd7818d46e1b5982f31babc74ed",
            "a2ee9bb807dd42fa9a8907dc7745a922",
            "bd1202b3e8b540c08660cb56dc237dab",
            "a4c8a01c888b4bbe8e136b054fd1595a",
            "a8c5952119c7434e949e8487c326bcd7",
            "2e02ebf3252c43c8a7759e6c519b2c43",
            "22e80c2a735d48b996651f4dea46c92b",
            "222cb16c58c04ae787a534073d0d253b",
            "9df46a3cefc246728c458f5f74827796"
          ]
        },
        "id": "4SLg_sSEEBdE",
        "outputId": "00e8da96-d952-400b-fcd2-aefe01e25c3b"
      },
      "source": [
        "# MISC\r\n",
        "# Image Captioning : Image Captioning related modeling class\r\n",
        "# 그림 설명\r\n",
        "\r\n",
        "caption = Pororo(task=\"caption\", lang=\"en\")\r\n",
        "caption(\"https://i.pinimg.com/originals/b9/de/80/b9de803706fb2f7365e06e688b7cc470.jpg\")\r\n",
        "# Two men sitting at a table with plates of food."
      ],
      "execution_count": null,
      "outputs": [
        {
          "output_type": "stream",
          "text": [
            "\n"
          ],
          "name": "stderr"
        },
        {
          "output_type": "display_data",
          "data": {
            "application/vnd.jupyter.widget-view+json": {
              "model_id": "ab6af0adc6304a57a14190e4c85d5799",
              "version_minor": 0,
              "version_major": 2
            },
            "text/plain": [
              "HBox(children=(FloatProgress(value=0.0, description='Downloading', max=231508.0, style=ProgressStyle(descripti…"
            ]
          },
          "metadata": {
            "tags": []
          }
        },
        {
          "output_type": "stream",
          "text": [
            "\n"
          ],
          "name": "stdout"
        },
        {
          "output_type": "stream",
          "text": [
            "Downloading: \"https://github.com/facebookresearch/detr/archive/master.zip\" to /root/.cache/torch/hub/master.zip\n",
            "Downloading: \"https://download.pytorch.org/models/resnet50-19c8e357.pth\" to /root/.cache/torch/hub/checkpoints/resnet50-19c8e357.pth\n"
          ],
          "name": "stderr"
        },
        {
          "output_type": "display_data",
          "data": {
            "application/vnd.jupyter.widget-view+json": {
              "model_id": "d505a5fc65144f6c87f5683419c5be6a",
              "version_minor": 0,
              "version_major": 2
            },
            "text/plain": [
              "HBox(children=(FloatProgress(value=0.0, max=102502400.0), HTML(value='')))"
            ]
          },
          "metadata": {
            "tags": []
          }
        },
        {
          "output_type": "stream",
          "text": [
            "\n"
          ],
          "name": "stdout"
        },
        {
          "output_type": "stream",
          "text": [
            "Downloading: \"https://dl.fbaipublicfiles.com/detr/detr-r50-e632da11.pth\" to /root/.cache/torch/hub/checkpoints/detr-r50-e632da11.pth\n"
          ],
          "name": "stderr"
        },
        {
          "output_type": "display_data",
          "data": {
            "application/vnd.jupyter.widget-view+json": {
              "model_id": "a2ee9bb807dd42fa9a8907dc7745a922",
              "version_minor": 0,
              "version_major": 2
            },
            "text/plain": [
              "HBox(children=(FloatProgress(value=0.0, max=166618694.0), HTML(value='')))"
            ]
          },
          "metadata": {
            "tags": []
          }
        },
        {
          "output_type": "stream",
          "text": [
            "\n"
          ],
          "name": "stdout"
        },
        {
          "output_type": "execute_result",
          "data": {
            "application/vnd.google.colaboratory.intrinsic+json": {
              "type": "string"
            },
            "text/plain": [
              "'Two men sitting at a table with plates of food.'"
            ]
          },
          "metadata": {
            "tags": []
          },
          "execution_count": 45
        }
      ]
    },
    {
      "cell_type": "code",
      "metadata": {
        "id": "mPJ1aAtpEkDZ"
      },
      "source": [
        "# MISC\r\n",
        "# Collocation : Collocation related modeling class\r\n",
        "#\r\n",
        "\r\n",
        "# fix install package\r\n",
        "#!pip install kollocate \r\n",
        "\r\n",
        "col = Pororo(task=\"col\", lang=\"ko\")\r\n",
        "col(\"먹\")"
      ],
      "execution_count": null,
      "outputs": []
    },
    {
      "cell_type": "code",
      "metadata": {
        "id": "mSjhM54yFbXV"
      },
      "source": [
        "# MISC\r\n",
        "# Lemmatization : Lemmatization related modeling class\r\n",
        "#\r\n",
        "\r\n",
        "lemma = Pororo(task=\"lemma\", lang=\"en\")\r\n",
        "lemma(\"The striped bats are hanging, on their feet for best.\")\r\n"
      ],
      "execution_count": null,
      "outputs": []
    },
    {
      "cell_type": "code",
      "metadata": {
        "id": "XP2DnJz7H8Nm"
      },
      "source": [
        "# MISC\r\n",
        "# Morphological Inflection : Morphological Inflection related modeling class\r\n",
        "# 형태학적 변형\r\n",
        "\r\n",
        "!pip install koparadigm \r\n",
        "\r\n",
        "inflection = Pororo(task=\"inflection\", lang=\"ko\")\r\n",
        "inflection(\"곱\")"
      ],
      "execution_count": null,
      "outputs": []
    },
    {
      "cell_type": "code",
      "metadata": {
        "colab": {
          "base_uri": "https://localhost:8080/"
        },
        "id": "WeZyBBY0IctV",
        "outputId": "8589ef40-caf8-45cb-d25d-089cac694e53"
      },
      "source": [
        "# MISC\r\n",
        "# Optical Character Recognition : OCR related modeling class\r\n",
        "#\r\n",
        "\r\n",
        "ocr = Pororo(task=\"ocr\", lang=\"ko\")\r\n",
        "ocr(\"https://i.pinimg.com/originals/b9/de/80/b9de803706fb2f7365e06e688b7cc470.jpg\")\r\n",
        "# 버거킹, 맥도널드 이미지\r\n",
        "\"\"\"\r\n",
        "['BURGER KING',\r\n",
        " \"McDonaid's\",\r\n",
        " '(',\r\n",
        " '106005()(',\r\n",
        " \"KRRNK2' jooumoM\",\r\n",
        " \"'SHAREBOX POES McI'ORITCS\"]\r\n",
        " \"\"\""
      ],
      "execution_count": null,
      "outputs": [
        {
          "output_type": "stream",
          "text": [
            "\rProgress: |--------------------------------------------------| 0.0% Complete\r\rProgress: |██------------------------------------------------| 4.9% Complete\r\rProgress: |████----------------------------------------------| 9.7% Complete\r\rProgress: |███████-------------------------------------------| 14.6% Complete\r\rProgress: |█████████-----------------------------------------| 19.4% Complete\r\rProgress: |████████████--------------------------------------| 24.3% Complete\r\rProgress: |██████████████------------------------------------| 29.1% Complete\r\rProgress: |█████████████████---------------------------------| 34.0% Complete\r\rProgress: |███████████████████-------------------------------| 38.9% Complete\r\rProgress: |█████████████████████-----------------------------| 43.7% Complete\r\rProgress: |████████████████████████--------------------------| 48.6% Complete\r\rProgress: |██████████████████████████------------------------| 53.4% Complete\r\rProgress: |█████████████████████████████---------------------| 58.3% Complete\r\rProgress: |███████████████████████████████-------------------| 63.1% Complete\r\rProgress: |██████████████████████████████████----------------| 68.0% Complete\r\rProgress: |████████████████████████████████████--------------| 72.9% Complete\r\rProgress: |██████████████████████████████████████------------| 77.7% Complete\r\rProgress: |█████████████████████████████████████████---------| 82.6% Complete\r\rProgress: |███████████████████████████████████████████-------| 87.4% Complete\r\rProgress: |██████████████████████████████████████████████----| 92.3% Complete\r\rProgress: |████████████████████████████████████████████████--| 97.1% Complete\r\rProgress: |███████████████████████████████████████████████████| 102.0% Complete\r"
          ],
          "name": "stdout"
        },
        {
          "output_type": "stream",
          "text": [
            "/usr/local/lib/python3.6/dist-packages/torch/nn/functional.py:3384: UserWarning: Default grid_sample and affine_grid behavior has changed to align_corners=False since 1.3.0. Please specify align_corners=True if the old behavior is desired. See the documentation of grid_sample for details.\n",
            "  warnings.warn(\"Default grid_sample and affine_grid behavior has changed \"\n"
          ],
          "name": "stderr"
        },
        {
          "output_type": "execute_result",
          "data": {
            "text/plain": [
              "['BURGER KING',\n",
              " \"McDonaid's\",\n",
              " '(',\n",
              " '106005()(',\n",
              " \"KRRNK2' jooumoM\",\n",
              " \"'SHAREBOX POES McI'ORITCS\"]"
            ]
          },
          "metadata": {
            "tags": []
          },
          "execution_count": 54
        }
      ]
    },
    {
      "cell_type": "code",
      "metadata": {
        "colab": {
          "base_uri": "https://localhost:8080/"
        },
        "id": "wFfVRQzRJG0W",
        "outputId": "6250f0ae-2f92-4e34-d32d-be894600b23c"
      },
      "source": [
        "# MISC\r\n",
        "# Tokenization : Tokenization related modeling class\r\n",
        "# 문장 토큰 분리\r\n",
        "\r\n",
        "tk = Pororo(task=\"tokenization\", lang=\"ko\", model=\"bpe32k.ko\", )\r\n",
        "tk(\"하늘을 나는 새를 보았다\")"
      ],
      "execution_count": null,
      "outputs": [
        {
          "output_type": "execute_result",
          "data": {
            "text/plain": [
              "['▁하늘을', '▁나는', '▁새', '를', '▁보았다']"
            ]
          },
          "metadata": {
            "tags": []
          },
          "execution_count": 57
        }
      ]
    },
    {
      "cell_type": "code",
      "metadata": {
        "colab": {
          "base_uri": "https://localhost:8080/"
        },
        "id": "tgJYK4wUJXuE",
        "outputId": "693771b4-c547-487d-e364-41799b1fc6b2"
      },
      "source": [
        "# MISC\r\n",
        "# Word Translation : Word Translation related modeling class\r\n",
        "# 단어 다국어 변환\r\n",
        "\r\n",
        "wt = Pororo(task=\"word_translation\", lang=\"en\", tgt=\"fr\")\r\n",
        "wt(\"apple\")"
      ],
      "execution_count": null,
      "outputs": [
        {
          "output_type": "execute_result",
          "data": {
            "text/plain": [
              "['pomme', 'pommier', 'pommes', 'tombe', 'yeux']"
            ]
          },
          "metadata": {
            "tags": []
          },
          "execution_count": 61
        }
      ]
    },
    {
      "cell_type": "code",
      "metadata": {
        "id": "ihWRqyFbKEJM"
      },
      "source": [
        "# MISC\r\n",
        "# Word Embedding : Word Embedding related modeling class\r\n",
        "#\r\n",
        "\r\n",
        "word2vec = Pororo(\"word2vec\", lang=\"ko\")\r\n",
        "word2vec(\"사과\")  # vector search"
      ],
      "execution_count": null,
      "outputs": []
    }
  ]
}